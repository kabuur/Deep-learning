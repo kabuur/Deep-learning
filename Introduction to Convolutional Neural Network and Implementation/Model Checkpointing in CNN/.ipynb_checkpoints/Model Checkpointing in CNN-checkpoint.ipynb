{
 "cells": [
  {
   "cell_type": "code",
   "execution_count": null,
   "metadata": {
    "executionInfo": {
     "elapsed": 5862,
     "status": "ok",
     "timestamp": 1712658308213,
     "user": {
      "displayName": "Axmed sahal cabduqadir",
      "userId": "12394894003524294182"
     },
     "user_tz": 420
    },
    "id": "hWSBmvwYYnTm"
   },
   "outputs": [],
   "source": [
    "# import necessary libraries and functions\n",
    "import numpy as np\n",
    "import pandas as pd\n",
    "import matplotlib.pyplot as plt\n",
    "%matplotlib inline\n",
    "\n",
    "# importing layers from keras\n",
    "from keras.layers import Dense, InputLayer, BatchNormalization, Dropout\n",
    "from keras.models import Sequential\n",
    "# importing adam optimizer from keras optimizer module\n",
    "from keras.optimizers import Adam\n",
    "\n",
    "# train_test_split to create training and validation set\n",
    "from sklearn.model_selection import train_test_split\n",
    "# accuracy_score to calculate the accuracy of predictions\n",
    "from sklearn.metrics import accuracy_score"
   ]
  },
  {
   "cell_type": "code",
   "execution_count": null,
   "metadata": {
    "colab": {
     "base_uri": "https://localhost:8080/"
    },
    "executionInfo": {
     "elapsed": 39702,
     "status": "ok",
     "timestamp": 1712658351078,
     "user": {
      "displayName": "Axmed sahal cabduqadir",
      "userId": "12394894003524294182"
     },
     "user_tz": 420
    },
    "id": "W17LsSA6Ysj5",
    "outputId": "a9fc7829-ebd8-40d8-9985-696e44236b23"
   },
   "outputs": [],
   "source": [
    "# from google.colab import drive\n",
    "# drive.mount('/content/drive')"
   ]
  },
  {
   "cell_type": "code",
   "execution_count": null,
   "metadata": {
    "colab": {
     "base_uri": "https://localhost:8080/"
    },
    "executionInfo": {
     "elapsed": 2015,
     "status": "ok",
     "timestamp": 1712658384518,
     "user": {
      "displayName": "Axmed sahal cabduqadir",
      "userId": "12394894003524294182"
     },
     "user_tz": 420
    },
    "id": "xpC6oaeqYtk4",
    "outputId": "37d2ec21-1d5c-4691-8e6d-eed5a10aab4b"
   },
   "outputs": [],
   "source": [
    "# unzipping the Dataset.zip file\n",
    "# !unzip /content/drive/My\\ Drive/Deeplearning/Dataset.zip"
   ]
  },
  {
   "cell_type": "code",
   "execution_count": null,
   "metadata": {
    "executionInfo": {
     "elapsed": 7,
     "status": "ok",
     "timestamp": 1712658416296,
     "user": {
      "displayName": "Axmed sahal cabduqadir",
      "userId": "12394894003524294182"
     },
     "user_tz": 420
    },
    "id": "E-KzuefwZKQU"
   },
   "outputs": [],
   "source": [
    "data = pd.read_csv('emergency_classification.csv')"
   ]
  },
  {
   "cell_type": "code",
   "execution_count": null,
   "metadata": {
    "executionInfo": {
     "elapsed": 4082,
     "status": "ok",
     "timestamp": 1712658443525,
     "user": {
      "displayName": "Axmed sahal cabduqadir",
      "userId": "12394894003524294182"
     },
     "user_tz": 420
    },
    "id": "D6m-kg7ZZXvI"
   },
   "outputs": [],
   "source": [
    "# load images and store it in numpy array\n",
    "\n",
    "# empty list to store the images\n",
    "X = []\n",
    "# iterating over each image\n",
    "for img_name in data.image_names:\n",
    "    # loading the image using its name\n",
    "    img = plt.imread('images/' + img_name)\n",
    "    # saving each image in the list\n",
    "    X.append(img)\n",
    "\n",
    "# converting the list of images into array\n",
    "X=np.array(X)\n",
    "\n",
    "# storing the target variable in separate variable\n",
    "y = data.emergency_or_not.values"
   ]
  },
  {
   "cell_type": "code",
   "execution_count": null,
   "metadata": {
    "executionInfo": {
     "elapsed": 737,
     "status": "ok",
     "timestamp": 1712658452569,
     "user": {
      "displayName": "Axmed sahal cabduqadir",
      "userId": "12394894003524294182"
     },
     "user_tz": 420
    },
    "id": "CTc3BNQUZa8T"
   },
   "outputs": [],
   "source": [
    "X = X / X.max()"
   ]
  },
  {
   "cell_type": "code",
   "execution_count": null,
   "metadata": {
    "executionInfo": {
     "elapsed": 518,
     "status": "ok",
     "timestamp": 1712658475587,
     "user": {
      "displayName": "Axmed sahal cabduqadir",
      "userId": "12394894003524294182"
     },
     "user_tz": 420
    },
    "id": "613hda2KZgZA"
   },
   "outputs": [],
   "source": [
    "# creating a training and validation set\n",
    "X_train, X_valid, y_train, y_valid=train_test_split(X,y,test_size=0.3, random_state=42)"
   ]
  },
  {
   "cell_type": "code",
   "execution_count": null,
   "metadata": {
    "colab": {
     "base_uri": "https://localhost:8080/"
    },
    "executionInfo": {
     "elapsed": 4,
     "status": "ok",
     "timestamp": 1712658484692,
     "user": {
      "displayName": "Axmed sahal cabduqadir",
      "userId": "12394894003524294182"
     },
     "user_tz": 420
    },
    "id": "iyLVKS7vZjOV",
    "outputId": "f9d1a2d9-5c0d-45e5-8bf6-5e37f28b12e5"
   },
   "outputs": [],
   "source": [
    "# shape of training and validation set\n",
    "(X_train.shape, y_train.shape), (X_valid.shape, y_valid.shape)"
   ]
  },
  {
   "cell_type": "code",
   "execution_count": null,
   "metadata": {
    "executionInfo": {
     "elapsed": 11,
     "status": "ok",
     "timestamp": 1712658531819,
     "user": {
      "displayName": "Axmed sahal cabduqadir",
      "userId": "12394894003524294182"
     },
     "user_tz": 420
    },
    "id": "_dkzvrLOZok5"
   },
   "outputs": [],
   "source": [
    "# importing the convolutional and flatten layer from keras\n",
    "from keras.layers import Conv2D, Flatten,MaxPool2D"
   ]
  },
  {
   "cell_type": "code",
   "execution_count": null,
   "metadata": {
    "executionInfo": {
     "elapsed": 1536,
     "status": "ok",
     "timestamp": 1712658535578,
     "user": {
      "displayName": "Axmed sahal cabduqadir",
      "userId": "12394894003524294182"
     },
     "user_tz": 420
    },
    "id": "r5G7ho9kZrci"
   },
   "outputs": [],
   "source": [
    "# defining the model architecture with maxpool layer\n",
    "\n",
    "model = Sequential()\n",
    "\n",
    "model.add(InputLayer(input_shape=(224, 224, 3)))\n",
    "\n",
    "model.add(Conv2D(50, (5, 5), activation='relu', strides=(1, 1), padding='valid'))\n",
    "model.add(MaxPool2D(pool_size=(2, 2), padding='valid'))\n",
    "model.add(Conv2D(50, (5, 5), activation='relu', strides=(1, 1), padding='valid'))\n",
    "model.add(MaxPool2D(pool_size=(4, 4), padding='valid'))\n",
    "\n",
    "model.add(Flatten())\n",
    "\n",
    "model.add(Dense(units=100, activation='relu'))\n",
    "model.add(BatchNormalization())\n",
    "model.add(Dropout(rate=0.6))\n",
    "model.add(Dense(units=100, activation='relu'))\n",
    "model.add(BatchNormalization())\n",
    "model.add(Dropout(rate=0.6))\n",
    "model.add(Dense(units=1, activation='sigmoid'))\n",
    "\n",
    "# compiling the model\n",
    "model.compile(loss='binary_crossentropy', optimizer=\"adam\", metrics=['accuracy'])"
   ]
  },
  {
   "cell_type": "code",
   "execution_count": null,
   "metadata": {
    "colab": {
     "base_uri": "https://localhost:8080/"
    },
    "executionInfo": {
     "elapsed": 29,
     "status": "ok",
     "timestamp": 1712658547687,
     "user": {
      "displayName": "Axmed sahal cabduqadir",
      "userId": "12394894003524294182"
     },
     "user_tz": 420
    },
    "id": "zhA2qUC3Z0pe",
    "outputId": "4b393488-0fbe-41a6-ae05-287265ea7899"
   },
   "outputs": [],
   "source": [
    "model.summary()"
   ]
  },
  {
   "cell_type": "code",
   "execution_count": null,
   "metadata": {
    "executionInfo": {
     "elapsed": 529,
     "status": "ok",
     "timestamp": 1712658860938,
     "user": {
      "displayName": "Axmed sahal cabduqadir",
      "userId": "12394894003524294182"
     },
     "user_tz": 420
    },
    "id": "QpU4pRzQZ35s"
   },
   "outputs": [],
   "source": [
    "from keras.callbacks import ModelCheckpoint"
   ]
  },
  {
   "cell_type": "code",
   "execution_count": null,
   "metadata": {
    "executionInfo": {
     "elapsed": 5,
     "status": "ok",
     "timestamp": 1712658862997,
     "user": {
      "displayName": "Axmed sahal cabduqadir",
      "userId": "12394894003524294182"
     },
     "user_tz": 420
    },
    "id": "k5dVeWjlaMCW"
   },
   "outputs": [],
   "source": [
    "path = \"best_model.hdf5\""
   ]
  },
  {
   "cell_type": "code",
   "execution_count": null,
   "metadata": {
    "executionInfo": {
     "elapsed": 7,
     "status": "ok",
     "timestamp": 1712658909167,
     "user": {
      "displayName": "Axmed sahal cabduqadir",
      "userId": "12394894003524294182"
     },
     "user_tz": 420
    },
    "id": "V_Wsy7rBaSJb"
   },
   "outputs": [],
   "source": [
    "checkpoint = ModelCheckpoint(path, monitor =\"val_accuracy\", verbose = 1, save_best_only= True, mode=\"max\")"
   ]
  },
  {
   "cell_type": "code",
   "execution_count": 22,
   "metadata": {
    "executionInfo": {
     "elapsed": 9,
     "status": "ok",
     "timestamp": 1712658909835,
     "user": {
      "displayName": "Axmed sahal cabduqadir",
      "userId": "12394894003524294182"
     },
     "user_tz": 420
    },
    "id": "sekVIMg_a3O5"
   },
   "outputs": [],
   "source": [
    "callback_list = [checkpoint]"
   ]
  },
  {
   "cell_type": "code",
   "execution_count": 24,
   "metadata": {
    "colab": {
     "base_uri": "https://localhost:8080/"
    },
    "executionInfo": {
     "elapsed": 388989,
     "status": "ok",
     "timestamp": 1712659340859,
     "user": {
      "displayName": "Axmed sahal cabduqadir",
      "userId": "12394894003524294182"
     },
     "user_tz": 420
    },
    "id": "kg1Uo2sebQXx",
    "outputId": "ad28131b-1a15-4194-a369-7de90fd24104"
   },
   "outputs": [
    {
     "name": "stdout",
     "output_type": "stream",
     "text": [
      "Epoch 1/100\n",
      "13/13 [==============================] - ETA: 0s - loss: 0.9029 - accuracy: 0.5887\n",
      "Epoch 1: val_accuracy improved from -inf to 0.56091, saving model to best_model.hdf5\n"
     ]
    },
    {
     "name": "stderr",
     "output_type": "stream",
     "text": [
      "/usr/local/lib/python3.10/dist-packages/keras/src/engine/training.py:3103: UserWarning: You are saving your model as an HDF5 file via `model.save()`. This file format is considered legacy. We recommend using instead the native Keras format, e.g. `model.save('my_model.keras')`.\n",
      "  saving_api.save_model(\n"
     ]
    },
    {
     "name": "stdout",
     "output_type": "stream",
     "text": [
      "\b\b\b\b\b\b\b\b\b\b\b\b\b\b\b\b\b\b\b\b\b\b\b\b\b\b\b\b\b\b\b\b\b\b\b\b\b\b\b\b\b\b\b\b\b\b\b\b\b\b\b\b\b\b\b\b\b\b\b\b\b\b\b\b\b\b\b\b\b\b\b\b\b\b\b\b\b\b\b\b\b\b\r",
      "13/13 [==============================] - 28s 1s/step - loss: 0.9029 - accuracy: 0.5887 - val_loss: 1.0068 - val_accuracy: 0.5609\n",
      "Epoch 2/100\n",
      "13/13 [==============================] - ETA: 0s - loss: 0.6618 - accuracy: 0.6914\n",
      "Epoch 2: val_accuracy improved from 0.56091 to 0.66572, saving model to best_model.hdf5\n",
      "13/13 [==============================] - 5s 389ms/step - loss: 0.6618 - accuracy: 0.6914 - val_loss: 0.6154 - val_accuracy: 0.6657\n",
      "Epoch 3/100\n",
      "13/13 [==============================] - ETA: 0s - loss: 0.5977 - accuracy: 0.7424\n",
      "Epoch 3: val_accuracy improved from 0.66572 to 0.72946, saving model to best_model.hdf5\n",
      "13/13 [==============================] - 4s 324ms/step - loss: 0.5977 - accuracy: 0.7424 - val_loss: 0.5606 - val_accuracy: 0.7295\n",
      "Epoch 4/100\n",
      "13/13 [==============================] - ETA: 0s - loss: 0.4921 - accuracy: 0.7940\n",
      "Epoch 4: val_accuracy improved from 0.72946 to 0.80170, saving model to best_model.hdf5\n",
      "13/13 [==============================] - 4s 285ms/step - loss: 0.4921 - accuracy: 0.7940 - val_loss: 0.4338 - val_accuracy: 0.8017\n",
      "Epoch 5/100\n",
      "13/13 [==============================] - ETA: 0s - loss: 0.4336 - accuracy: 0.8147\n",
      "Epoch 5: val_accuracy did not improve from 0.80170\n",
      "13/13 [==============================] - 3s 252ms/step - loss: 0.4336 - accuracy: 0.8147 - val_loss: 0.5150 - val_accuracy: 0.7408\n",
      "Epoch 6/100\n",
      "13/13 [==============================] - ETA: 0s - loss: 0.4033 - accuracy: 0.8317\n",
      "Epoch 6: val_accuracy did not improve from 0.80170\n",
      "13/13 [==============================] - 3s 264ms/step - loss: 0.4033 - accuracy: 0.8317 - val_loss: 0.4932 - val_accuracy: 0.7705\n",
      "Epoch 7/100\n",
      "13/13 [==============================] - ETA: 0s - loss: 0.3513 - accuracy: 0.8560\n",
      "Epoch 7: val_accuracy did not improve from 0.80170\n",
      "13/13 [==============================] - 3s 274ms/step - loss: 0.3513 - accuracy: 0.8560 - val_loss: 0.4149 - val_accuracy: 0.7989\n",
      "Epoch 8/100\n",
      "13/13 [==============================] - ETA: 0s - loss: 0.3104 - accuracy: 0.8572\n",
      "Epoch 8: val_accuracy improved from 0.80170 to 0.84561, saving model to best_model.hdf5\n",
      "13/13 [==============================] - 4s 293ms/step - loss: 0.3104 - accuracy: 0.8572 - val_loss: 0.3536 - val_accuracy: 0.8456\n",
      "Epoch 9/100\n",
      "13/13 [==============================] - ETA: 0s - loss: 0.2554 - accuracy: 0.8979\n",
      "Epoch 9: val_accuracy did not improve from 0.84561\n",
      "13/13 [==============================] - 4s 287ms/step - loss: 0.2554 - accuracy: 0.8979 - val_loss: 0.4566 - val_accuracy: 0.7776\n",
      "Epoch 10/100\n",
      "13/13 [==============================] - ETA: 0s - loss: 0.2274 - accuracy: 0.9162\n",
      "Epoch 10: val_accuracy did not improve from 0.84561\n",
      "13/13 [==============================] - 3s 263ms/step - loss: 0.2274 - accuracy: 0.9162 - val_loss: 0.3992 - val_accuracy: 0.8314\n",
      "Epoch 11/100\n",
      "13/13 [==============================] - ETA: 0s - loss: 0.1964 - accuracy: 0.9210\n",
      "Epoch 11: val_accuracy improved from 0.84561 to 0.84844, saving model to best_model.hdf5\n",
      "13/13 [==============================] - 3s 257ms/step - loss: 0.1964 - accuracy: 0.9210 - val_loss: 0.3726 - val_accuracy: 0.8484\n",
      "Epoch 12/100\n",
      "13/13 [==============================] - ETA: 0s - loss: 0.1707 - accuracy: 0.9374\n",
      "Epoch 12: val_accuracy did not improve from 0.84844\n",
      "13/13 [==============================] - 3s 242ms/step - loss: 0.1707 - accuracy: 0.9374 - val_loss: 0.6852 - val_accuracy: 0.7139\n",
      "Epoch 13/100\n",
      "13/13 [==============================] - ETA: 0s - loss: 0.1551 - accuracy: 0.9441\n",
      "Epoch 13: val_accuracy improved from 0.84844 to 0.85977, saving model to best_model.hdf5\n",
      "13/13 [==============================] - 4s 282ms/step - loss: 0.1551 - accuracy: 0.9441 - val_loss: 0.3676 - val_accuracy: 0.8598\n",
      "Epoch 14/100\n",
      "13/13 [==============================] - ETA: 0s - loss: 0.1389 - accuracy: 0.9544\n",
      "Epoch 14: val_accuracy did not improve from 0.85977\n",
      "13/13 [==============================] - 3s 244ms/step - loss: 0.1389 - accuracy: 0.9544 - val_loss: 0.4094 - val_accuracy: 0.8215\n",
      "Epoch 15/100\n",
      "13/13 [==============================] - ETA: 0s - loss: 0.1161 - accuracy: 0.9593\n",
      "Epoch 15: val_accuracy did not improve from 0.85977\n",
      "13/13 [==============================] - 3s 257ms/step - loss: 0.1161 - accuracy: 0.9593 - val_loss: 0.5895 - val_accuracy: 0.7635\n",
      "Epoch 16/100\n",
      "13/13 [==============================] - ETA: 0s - loss: 0.0927 - accuracy: 0.9672\n",
      "Epoch 16: val_accuracy did not improve from 0.85977\n",
      "13/13 [==============================] - 3s 262ms/step - loss: 0.0927 - accuracy: 0.9672 - val_loss: 0.6373 - val_accuracy: 0.7663\n",
      "Epoch 17/100\n",
      "13/13 [==============================] - ETA: 0s - loss: 0.0972 - accuracy: 0.9672\n",
      "Epoch 17: val_accuracy did not improve from 0.85977\n",
      "13/13 [==============================] - 4s 349ms/step - loss: 0.0972 - accuracy: 0.9672 - val_loss: 0.5017 - val_accuracy: 0.8130\n",
      "Epoch 18/100\n",
      "13/13 [==============================] - ETA: 0s - loss: 0.0755 - accuracy: 0.9769\n",
      "Epoch 18: val_accuracy did not improve from 0.85977\n",
      "13/13 [==============================] - 3s 268ms/step - loss: 0.0755 - accuracy: 0.9769 - val_loss: 0.4015 - val_accuracy: 0.8371\n",
      "Epoch 19/100\n",
      "13/13 [==============================] - ETA: 0s - loss: 0.0648 - accuracy: 0.9781\n",
      "Epoch 19: val_accuracy did not improve from 0.85977\n",
      "13/13 [==============================] - 3s 243ms/step - loss: 0.0648 - accuracy: 0.9781 - val_loss: 0.3886 - val_accuracy: 0.8541\n",
      "Epoch 20/100\n",
      "13/13 [==============================] - ETA: 0s - loss: 0.0565 - accuracy: 0.9860\n",
      "Epoch 20: val_accuracy did not improve from 0.85977\n",
      "13/13 [==============================] - 3s 257ms/step - loss: 0.0565 - accuracy: 0.9860 - val_loss: 0.6716 - val_accuracy: 0.7875\n",
      "Epoch 21/100\n",
      "13/13 [==============================] - ETA: 0s - loss: 0.0359 - accuracy: 0.9909\n",
      "Epoch 21: val_accuracy did not improve from 0.85977\n",
      "13/13 [==============================] - 3s 270ms/step - loss: 0.0359 - accuracy: 0.9909 - val_loss: 0.7852 - val_accuracy: 0.7677\n",
      "Epoch 22/100\n",
      "13/13 [==============================] - ETA: 0s - loss: 0.0372 - accuracy: 0.9915\n",
      "Epoch 22: val_accuracy did not improve from 0.85977\n",
      "13/13 [==============================] - 3s 258ms/step - loss: 0.0372 - accuracy: 0.9915 - val_loss: 0.4586 - val_accuracy: 0.8569\n",
      "Epoch 23/100\n",
      "13/13 [==============================] - ETA: 0s - loss: 0.0392 - accuracy: 0.9885\n",
      "Epoch 23: val_accuracy did not improve from 0.85977\n",
      "13/13 [==============================] - 3s 243ms/step - loss: 0.0392 - accuracy: 0.9885 - val_loss: 0.4618 - val_accuracy: 0.8584\n",
      "Epoch 24/100\n",
      "13/13 [==============================] - ETA: 0s - loss: 0.0395 - accuracy: 0.9939\n",
      "Epoch 24: val_accuracy did not improve from 0.85977\n",
      "13/13 [==============================] - 3s 243ms/step - loss: 0.0395 - accuracy: 0.9939 - val_loss: 1.0084 - val_accuracy: 0.7564\n",
      "Epoch 25/100\n",
      "13/13 [==============================] - ETA: 0s - loss: 0.0218 - accuracy: 0.9970\n",
      "Epoch 25: val_accuracy did not improve from 0.85977\n",
      "13/13 [==============================] - 3s 266ms/step - loss: 0.0218 - accuracy: 0.9970 - val_loss: 0.5860 - val_accuracy: 0.8343\n",
      "Epoch 26/100\n",
      "13/13 [==============================] - ETA: 0s - loss: 0.0399 - accuracy: 0.9909\n",
      "Epoch 26: val_accuracy did not improve from 0.85977\n",
      "13/13 [==============================] - 3s 260ms/step - loss: 0.0399 - accuracy: 0.9909 - val_loss: 0.6693 - val_accuracy: 0.7946\n",
      "Epoch 27/100\n",
      "13/13 [==============================] - ETA: 0s - loss: 0.0217 - accuracy: 0.9933\n",
      "Epoch 27: val_accuracy improved from 0.85977 to 0.86261, saving model to best_model.hdf5\n",
      "13/13 [==============================] - 3s 271ms/step - loss: 0.0217 - accuracy: 0.9933 - val_loss: 0.4518 - val_accuracy: 0.8626\n",
      "Epoch 28/100\n",
      "13/13 [==============================] - ETA: 0s - loss: 0.0312 - accuracy: 0.9903\n",
      "Epoch 28: val_accuracy did not improve from 0.86261\n",
      "13/13 [==============================] - 3s 259ms/step - loss: 0.0312 - accuracy: 0.9903 - val_loss: 0.6204 - val_accuracy: 0.8329\n",
      "Epoch 29/100\n",
      "13/13 [==============================] - ETA: 0s - loss: 0.0241 - accuracy: 0.9939\n",
      "Epoch 29: val_accuracy did not improve from 0.86261\n",
      "13/13 [==============================] - 3s 260ms/step - loss: 0.0241 - accuracy: 0.9939 - val_loss: 1.4749 - val_accuracy: 0.7125\n",
      "Epoch 30/100\n",
      "13/13 [==============================] - ETA: 0s - loss: 0.0232 - accuracy: 0.9951\n",
      "Epoch 30: val_accuracy did not improve from 0.86261\n",
      "13/13 [==============================] - 3s 245ms/step - loss: 0.0232 - accuracy: 0.9951 - val_loss: 1.0003 - val_accuracy: 0.7564\n",
      "Epoch 31/100\n",
      "13/13 [==============================] - ETA: 0s - loss: 0.0205 - accuracy: 0.9933\n",
      "Epoch 31: val_accuracy did not improve from 0.86261\n",
      "13/13 [==============================] - 3s 265ms/step - loss: 0.0205 - accuracy: 0.9933 - val_loss: 1.3762 - val_accuracy: 0.7011\n",
      "Epoch 32/100\n",
      "13/13 [==============================] - ETA: 0s - loss: 0.0251 - accuracy: 0.9939\n",
      "Epoch 32: val_accuracy did not improve from 0.86261\n",
      "13/13 [==============================] - 3s 247ms/step - loss: 0.0251 - accuracy: 0.9939 - val_loss: 0.7281 - val_accuracy: 0.8258\n",
      "Epoch 33/100\n",
      "13/13 [==============================] - ETA: 0s - loss: 0.0329 - accuracy: 0.9957\n",
      "Epoch 33: val_accuracy did not improve from 0.86261\n",
      "13/13 [==============================] - 4s 275ms/step - loss: 0.0329 - accuracy: 0.9957 - val_loss: 1.1328 - val_accuracy: 0.7394\n",
      "Epoch 34/100\n",
      "13/13 [==============================] - ETA: 0s - loss: 0.0289 - accuracy: 0.9933\n",
      "Epoch 34: val_accuracy did not improve from 0.86261\n",
      "13/13 [==============================] - 4s 338ms/step - loss: 0.0289 - accuracy: 0.9933 - val_loss: 0.9979 - val_accuracy: 0.7507\n",
      "Epoch 35/100\n",
      "13/13 [==============================] - ETA: 0s - loss: 0.0265 - accuracy: 0.9933\n",
      "Epoch 35: val_accuracy did not improve from 0.86261\n",
      "13/13 [==============================] - 4s 343ms/step - loss: 0.0265 - accuracy: 0.9933 - val_loss: 0.5824 - val_accuracy: 0.8569\n",
      "Epoch 36/100\n",
      "13/13 [==============================] - ETA: 0s - loss: 0.0170 - accuracy: 0.9951\n",
      "Epoch 36: val_accuracy did not improve from 0.86261\n",
      "13/13 [==============================] - 5s 366ms/step - loss: 0.0170 - accuracy: 0.9951 - val_loss: 0.6037 - val_accuracy: 0.8314\n",
      "Epoch 37/100\n",
      "13/13 [==============================] - ETA: 0s - loss: 0.0193 - accuracy: 0.9970\n",
      "Epoch 37: val_accuracy did not improve from 0.86261\n",
      "13/13 [==============================] - 4s 349ms/step - loss: 0.0193 - accuracy: 0.9970 - val_loss: 0.6914 - val_accuracy: 0.8229\n",
      "Epoch 38/100\n",
      "13/13 [==============================] - ETA: 0s - loss: 0.0187 - accuracy: 0.9945\n",
      "Epoch 38: val_accuracy did not improve from 0.86261\n",
      "13/13 [==============================] - 4s 308ms/step - loss: 0.0187 - accuracy: 0.9945 - val_loss: 0.8013 - val_accuracy: 0.7875\n",
      "Epoch 39/100\n",
      "13/13 [==============================] - ETA: 0s - loss: 0.0213 - accuracy: 0.9957\n",
      "Epoch 39: val_accuracy did not improve from 0.86261\n",
      "13/13 [==============================] - 5s 378ms/step - loss: 0.0213 - accuracy: 0.9957 - val_loss: 1.6262 - val_accuracy: 0.7153\n",
      "Epoch 40/100\n",
      "13/13 [==============================] - ETA: 0s - loss: 0.0191 - accuracy: 0.9945\n",
      "Epoch 40: val_accuracy did not improve from 0.86261\n",
      "13/13 [==============================] - 4s 289ms/step - loss: 0.0191 - accuracy: 0.9945 - val_loss: 0.7260 - val_accuracy: 0.8484\n",
      "Epoch 41/100\n",
      "13/13 [==============================] - ETA: 0s - loss: 0.0174 - accuracy: 0.9964\n",
      "Epoch 41: val_accuracy did not improve from 0.86261\n",
      "13/13 [==============================] - 4s 275ms/step - loss: 0.0174 - accuracy: 0.9964 - val_loss: 0.8516 - val_accuracy: 0.8045\n",
      "Epoch 42/100\n",
      "13/13 [==============================] - ETA: 0s - loss: 0.0131 - accuracy: 0.9982\n",
      "Epoch 42: val_accuracy improved from 0.86261 to 0.86544, saving model to best_model.hdf5\n",
      "13/13 [==============================] - 3s 272ms/step - loss: 0.0131 - accuracy: 0.9982 - val_loss: 0.6242 - val_accuracy: 0.8654\n",
      "Epoch 43/100\n",
      "13/13 [==============================] - ETA: 0s - loss: 0.0237 - accuracy: 0.9957\n",
      "Epoch 43: val_accuracy did not improve from 0.86544\n",
      "13/13 [==============================] - 3s 262ms/step - loss: 0.0237 - accuracy: 0.9957 - val_loss: 0.6154 - val_accuracy: 0.8584\n",
      "Epoch 44/100\n",
      "13/13 [==============================] - ETA: 0s - loss: 0.0114 - accuracy: 0.9970\n",
      "Epoch 44: val_accuracy did not improve from 0.86544\n",
      "13/13 [==============================] - 3s 258ms/step - loss: 0.0114 - accuracy: 0.9970 - val_loss: 0.7573 - val_accuracy: 0.8130\n",
      "Epoch 45/100\n",
      "13/13 [==============================] - ETA: 0s - loss: 0.0153 - accuracy: 0.9970\n",
      "Epoch 45: val_accuracy did not improve from 0.86544\n",
      "13/13 [==============================] - 3s 243ms/step - loss: 0.0153 - accuracy: 0.9970 - val_loss: 0.6162 - val_accuracy: 0.8569\n",
      "Epoch 46/100\n",
      "13/13 [==============================] - ETA: 0s - loss: 0.0356 - accuracy: 0.9921\n",
      "Epoch 46: val_accuracy did not improve from 0.86544\n",
      "13/13 [==============================] - 3s 258ms/step - loss: 0.0356 - accuracy: 0.9921 - val_loss: 0.9809 - val_accuracy: 0.7691\n",
      "Epoch 47/100\n",
      "13/13 [==============================] - ETA: 0s - loss: 0.0266 - accuracy: 0.9927\n",
      "Epoch 47: val_accuracy did not improve from 0.86544\n",
      "13/13 [==============================] - 4s 299ms/step - loss: 0.0266 - accuracy: 0.9927 - val_loss: 0.5614 - val_accuracy: 0.8329\n",
      "Epoch 48/100\n",
      "13/13 [==============================] - ETA: 0s - loss: 0.0218 - accuracy: 0.9939\n",
      "Epoch 48: val_accuracy did not improve from 0.86544\n",
      "13/13 [==============================] - 3s 268ms/step - loss: 0.0218 - accuracy: 0.9939 - val_loss: 0.8288 - val_accuracy: 0.8031\n",
      "Epoch 49/100\n",
      "13/13 [==============================] - ETA: 0s - loss: 0.0322 - accuracy: 0.9915\n",
      "Epoch 49: val_accuracy did not improve from 0.86544\n",
      "13/13 [==============================] - 3s 240ms/step - loss: 0.0322 - accuracy: 0.9915 - val_loss: 0.8074 - val_accuracy: 0.8215\n",
      "Epoch 50/100\n",
      "13/13 [==============================] - ETA: 0s - loss: 0.0149 - accuracy: 0.9970\n",
      "Epoch 50: val_accuracy did not improve from 0.86544\n",
      "13/13 [==============================] - 4s 290ms/step - loss: 0.0149 - accuracy: 0.9970 - val_loss: 0.7086 - val_accuracy: 0.8527\n",
      "Epoch 51/100\n",
      "13/13 [==============================] - ETA: 0s - loss: 0.0370 - accuracy: 0.9921\n",
      "Epoch 51: val_accuracy did not improve from 0.86544\n",
      "13/13 [==============================] - 4s 274ms/step - loss: 0.0370 - accuracy: 0.9921 - val_loss: 1.9311 - val_accuracy: 0.6997\n",
      "Epoch 52/100\n",
      "13/13 [==============================] - ETA: 0s - loss: 0.0274 - accuracy: 0.9933\n",
      "Epoch 52: val_accuracy did not improve from 0.86544\n",
      "13/13 [==============================] - 3s 263ms/step - loss: 0.0274 - accuracy: 0.9933 - val_loss: 1.4217 - val_accuracy: 0.7408\n",
      "Epoch 53/100\n",
      "13/13 [==============================] - ETA: 0s - loss: 0.0153 - accuracy: 0.9970\n",
      "Epoch 53: val_accuracy did not improve from 0.86544\n",
      "13/13 [==============================] - 3s 263ms/step - loss: 0.0153 - accuracy: 0.9970 - val_loss: 1.0581 - val_accuracy: 0.8173\n",
      "Epoch 54/100\n",
      "13/13 [==============================] - ETA: 0s - loss: 0.0227 - accuracy: 0.9964\n",
      "Epoch 54: val_accuracy did not improve from 0.86544\n",
      "13/13 [==============================] - 4s 291ms/step - loss: 0.0227 - accuracy: 0.9964 - val_loss: 0.7586 - val_accuracy: 0.8371\n",
      "Epoch 55/100\n",
      "13/13 [==============================] - ETA: 0s - loss: 0.0145 - accuracy: 0.9970\n",
      "Epoch 55: val_accuracy did not improve from 0.86544\n",
      "13/13 [==============================] - 4s 289ms/step - loss: 0.0145 - accuracy: 0.9970 - val_loss: 0.8008 - val_accuracy: 0.8499\n",
      "Epoch 56/100\n",
      "13/13 [==============================] - ETA: 0s - loss: 0.0172 - accuracy: 0.9951\n",
      "Epoch 56: val_accuracy did not improve from 0.86544\n",
      "13/13 [==============================] - 3s 261ms/step - loss: 0.0172 - accuracy: 0.9951 - val_loss: 1.2873 - val_accuracy: 0.7691\n",
      "Epoch 57/100\n",
      "13/13 [==============================] - ETA: 0s - loss: 0.0207 - accuracy: 0.9945\n",
      "Epoch 57: val_accuracy did not improve from 0.86544\n",
      "13/13 [==============================] - 3s 246ms/step - loss: 0.0207 - accuracy: 0.9945 - val_loss: 1.1024 - val_accuracy: 0.7890\n",
      "Epoch 58/100\n",
      "13/13 [==============================] - ETA: 0s - loss: 0.0120 - accuracy: 0.9970\n",
      "Epoch 58: val_accuracy did not improve from 0.86544\n",
      "13/13 [==============================] - 3s 257ms/step - loss: 0.0120 - accuracy: 0.9970 - val_loss: 1.0147 - val_accuracy: 0.7989\n",
      "Epoch 59/100\n",
      "13/13 [==============================] - ETA: 0s - loss: 0.0215 - accuracy: 0.9933\n",
      "Epoch 59: val_accuracy did not improve from 0.86544\n",
      "13/13 [==============================] - 3s 267ms/step - loss: 0.0215 - accuracy: 0.9933 - val_loss: 0.7177 - val_accuracy: 0.8499\n",
      "Epoch 60/100\n",
      "13/13 [==============================] - ETA: 0s - loss: 0.0181 - accuracy: 0.9964\n",
      "Epoch 60: val_accuracy did not improve from 0.86544\n",
      "13/13 [==============================] - 3s 260ms/step - loss: 0.0181 - accuracy: 0.9964 - val_loss: 0.9143 - val_accuracy: 0.8229\n",
      "Epoch 61/100\n",
      "13/13 [==============================] - ETA: 0s - loss: 0.0157 - accuracy: 0.9970\n",
      "Epoch 61: val_accuracy did not improve from 0.86544\n",
      "13/13 [==============================] - 4s 281ms/step - loss: 0.0157 - accuracy: 0.9970 - val_loss: 0.9899 - val_accuracy: 0.8031\n",
      "Epoch 62/100\n",
      "13/13 [==============================] - ETA: 0s - loss: 0.0156 - accuracy: 0.9970\n",
      "Epoch 62: val_accuracy did not improve from 0.86544\n",
      "13/13 [==============================] - 4s 297ms/step - loss: 0.0156 - accuracy: 0.9970 - val_loss: 0.6757 - val_accuracy: 0.8470\n",
      "Epoch 63/100\n",
      "13/13 [==============================] - ETA: 0s - loss: 0.0093 - accuracy: 0.9970\n",
      "Epoch 63: val_accuracy did not improve from 0.86544\n",
      "13/13 [==============================] - 4s 325ms/step - loss: 0.0093 - accuracy: 0.9970 - val_loss: 0.6956 - val_accuracy: 0.8286\n",
      "Epoch 64/100\n",
      "13/13 [==============================] - ETA: 0s - loss: 0.0123 - accuracy: 0.9976\n",
      "Epoch 64: val_accuracy did not improve from 0.86544\n",
      "13/13 [==============================] - 3s 269ms/step - loss: 0.0123 - accuracy: 0.9976 - val_loss: 0.7600 - val_accuracy: 0.8314\n",
      "Epoch 65/100\n",
      "13/13 [==============================] - ETA: 0s - loss: 0.0133 - accuracy: 0.9976\n",
      "Epoch 65: val_accuracy did not improve from 0.86544\n",
      "13/13 [==============================] - 3s 260ms/step - loss: 0.0133 - accuracy: 0.9976 - val_loss: 1.3876 - val_accuracy: 0.7663\n",
      "Epoch 66/100\n",
      "13/13 [==============================] - ETA: 0s - loss: 0.0114 - accuracy: 0.9982\n",
      "Epoch 66: val_accuracy did not improve from 0.86544\n",
      "13/13 [==============================] - 4s 276ms/step - loss: 0.0114 - accuracy: 0.9982 - val_loss: 0.7307 - val_accuracy: 0.8499\n",
      "Epoch 67/100\n",
      "13/13 [==============================] - ETA: 0s - loss: 0.0206 - accuracy: 0.9964\n",
      "Epoch 67: val_accuracy did not improve from 0.86544\n",
      "13/13 [==============================] - 3s 272ms/step - loss: 0.0206 - accuracy: 0.9964 - val_loss: 0.6585 - val_accuracy: 0.8612\n",
      "Epoch 68/100\n",
      "13/13 [==============================] - ETA: 0s - loss: 0.0116 - accuracy: 0.9976\n",
      "Epoch 68: val_accuracy did not improve from 0.86544\n",
      "13/13 [==============================] - 4s 303ms/step - loss: 0.0116 - accuracy: 0.9976 - val_loss: 0.6901 - val_accuracy: 0.8414\n",
      "Epoch 69/100\n",
      "13/13 [==============================] - ETA: 0s - loss: 0.0211 - accuracy: 0.9927\n",
      "Epoch 69: val_accuracy did not improve from 0.86544\n",
      "13/13 [==============================] - 4s 301ms/step - loss: 0.0211 - accuracy: 0.9927 - val_loss: 1.0178 - val_accuracy: 0.8159\n",
      "Epoch 70/100\n",
      "13/13 [==============================] - ETA: 0s - loss: 0.0289 - accuracy: 0.9951\n",
      "Epoch 70: val_accuracy did not improve from 0.86544\n",
      "13/13 [==============================] - 4s 301ms/step - loss: 0.0289 - accuracy: 0.9951 - val_loss: 1.4460 - val_accuracy: 0.7578\n",
      "Epoch 71/100\n",
      "13/13 [==============================] - ETA: 0s - loss: 0.0231 - accuracy: 0.9945\n",
      "Epoch 71: val_accuracy did not improve from 0.86544\n",
      "13/13 [==============================] - 4s 288ms/step - loss: 0.0231 - accuracy: 0.9945 - val_loss: 0.6460 - val_accuracy: 0.8640\n",
      "Epoch 72/100\n",
      "13/13 [==============================] - ETA: 0s - loss: 0.0212 - accuracy: 0.9945\n",
      "Epoch 72: val_accuracy did not improve from 0.86544\n",
      "13/13 [==============================] - 5s 360ms/step - loss: 0.0212 - accuracy: 0.9945 - val_loss: 1.3895 - val_accuracy: 0.7408\n",
      "Epoch 73/100\n",
      "13/13 [==============================] - ETA: 0s - loss: 0.0168 - accuracy: 0.9957\n",
      "Epoch 73: val_accuracy did not improve from 0.86544\n",
      "13/13 [==============================] - 4s 327ms/step - loss: 0.0168 - accuracy: 0.9957 - val_loss: 1.1893 - val_accuracy: 0.7550\n",
      "Epoch 74/100\n",
      "13/13 [==============================] - ETA: 0s - loss: 0.0247 - accuracy: 0.9921\n",
      "Epoch 74: val_accuracy did not improve from 0.86544\n",
      "13/13 [==============================] - 4s 279ms/step - loss: 0.0247 - accuracy: 0.9921 - val_loss: 1.0083 - val_accuracy: 0.8159\n",
      "Epoch 75/100\n",
      "13/13 [==============================] - ETA: 0s - loss: 0.0219 - accuracy: 0.9945\n",
      "Epoch 75: val_accuracy did not improve from 0.86544\n",
      "13/13 [==============================] - 3s 262ms/step - loss: 0.0219 - accuracy: 0.9945 - val_loss: 0.8442 - val_accuracy: 0.8329\n",
      "Epoch 76/100\n",
      "13/13 [==============================] - ETA: 0s - loss: 0.0127 - accuracy: 0.9964\n",
      "Epoch 76: val_accuracy did not improve from 0.86544\n",
      "13/13 [==============================] - 3s 262ms/step - loss: 0.0127 - accuracy: 0.9964 - val_loss: 0.9777 - val_accuracy: 0.8144\n",
      "Epoch 77/100\n",
      "13/13 [==============================] - ETA: 0s - loss: 0.0081 - accuracy: 0.9982\n",
      "Epoch 77: val_accuracy did not improve from 0.86544\n",
      "13/13 [==============================] - 4s 275ms/step - loss: 0.0081 - accuracy: 0.9982 - val_loss: 0.8323 - val_accuracy: 0.8414\n",
      "Epoch 78/100\n",
      "13/13 [==============================] - ETA: 0s - loss: 0.0134 - accuracy: 0.9964\n",
      "Epoch 78: val_accuracy did not improve from 0.86544\n",
      "13/13 [==============================] - 3s 261ms/step - loss: 0.0134 - accuracy: 0.9964 - val_loss: 0.9292 - val_accuracy: 0.8229\n",
      "Epoch 79/100\n",
      "13/13 [==============================] - ETA: 0s - loss: 0.0219 - accuracy: 0.9951\n",
      "Epoch 79: val_accuracy did not improve from 0.86544\n",
      "13/13 [==============================] - 3s 248ms/step - loss: 0.0219 - accuracy: 0.9951 - val_loss: 1.2795 - val_accuracy: 0.7847\n",
      "Epoch 80/100\n",
      "13/13 [==============================] - ETA: 0s - loss: 0.0219 - accuracy: 0.9964\n",
      "Epoch 80: val_accuracy did not improve from 0.86544\n",
      "13/13 [==============================] - 3s 270ms/step - loss: 0.0219 - accuracy: 0.9964 - val_loss: 1.3216 - val_accuracy: 0.7762\n",
      "Epoch 81/100\n",
      "13/13 [==============================] - ETA: 0s - loss: 0.0133 - accuracy: 0.9957\n",
      "Epoch 81: val_accuracy did not improve from 0.86544\n",
      "13/13 [==============================] - 3s 255ms/step - loss: 0.0133 - accuracy: 0.9957 - val_loss: 1.4769 - val_accuracy: 0.7535\n",
      "Epoch 82/100\n",
      "13/13 [==============================] - ETA: 0s - loss: 0.0157 - accuracy: 0.9945\n",
      "Epoch 82: val_accuracy did not improve from 0.86544\n",
      "13/13 [==============================] - 3s 260ms/step - loss: 0.0157 - accuracy: 0.9945 - val_loss: 1.2420 - val_accuracy: 0.7819\n",
      "Epoch 83/100\n",
      "13/13 [==============================] - ETA: 0s - loss: 0.0134 - accuracy: 0.9964\n",
      "Epoch 83: val_accuracy did not improve from 0.86544\n",
      "13/13 [==============================] - 3s 261ms/step - loss: 0.0134 - accuracy: 0.9964 - val_loss: 0.7944 - val_accuracy: 0.8258\n",
      "Epoch 84/100\n",
      "13/13 [==============================] - ETA: 0s - loss: 0.0219 - accuracy: 0.9957\n",
      "Epoch 84: val_accuracy did not improve from 0.86544\n",
      "13/13 [==============================] - 3s 265ms/step - loss: 0.0219 - accuracy: 0.9957 - val_loss: 0.7320 - val_accuracy: 0.8300\n",
      "Epoch 85/100\n",
      "13/13 [==============================] - ETA: 0s - loss: 0.0255 - accuracy: 0.9939\n",
      "Epoch 85: val_accuracy did not improve from 0.86544\n",
      "13/13 [==============================] - 4s 274ms/step - loss: 0.0255 - accuracy: 0.9939 - val_loss: 0.6664 - val_accuracy: 0.8499\n",
      "Epoch 86/100\n",
      "13/13 [==============================] - ETA: 0s - loss: 0.0178 - accuracy: 0.9951\n",
      "Epoch 86: val_accuracy did not improve from 0.86544\n",
      "13/13 [==============================] - 3s 260ms/step - loss: 0.0178 - accuracy: 0.9951 - val_loss: 0.9499 - val_accuracy: 0.8329\n",
      "Epoch 87/100\n",
      "13/13 [==============================] - ETA: 0s - loss: 0.0150 - accuracy: 0.9964\n",
      "Epoch 87: val_accuracy did not improve from 0.86544\n",
      "13/13 [==============================] - 3s 260ms/step - loss: 0.0150 - accuracy: 0.9964 - val_loss: 0.8452 - val_accuracy: 0.8074\n",
      "Epoch 88/100\n",
      "13/13 [==============================] - ETA: 0s - loss: 0.0149 - accuracy: 0.9964\n",
      "Epoch 88: val_accuracy did not improve from 0.86544\n",
      "13/13 [==============================] - 4s 275ms/step - loss: 0.0149 - accuracy: 0.9964 - val_loss: 0.7278 - val_accuracy: 0.8541\n",
      "Epoch 89/100\n",
      "13/13 [==============================] - ETA: 0s - loss: 0.0117 - accuracy: 0.9970\n",
      "Epoch 89: val_accuracy did not improve from 0.86544\n",
      "13/13 [==============================] - 3s 263ms/step - loss: 0.0117 - accuracy: 0.9970 - val_loss: 0.7058 - val_accuracy: 0.8569\n",
      "Epoch 90/100\n",
      "13/13 [==============================] - ETA: 0s - loss: 0.0204 - accuracy: 0.9951\n",
      "Epoch 90: val_accuracy did not improve from 0.86544\n",
      "13/13 [==============================] - 3s 260ms/step - loss: 0.0204 - accuracy: 0.9951 - val_loss: 0.7997 - val_accuracy: 0.8286\n",
      "Epoch 91/100\n",
      "13/13 [==============================] - ETA: 0s - loss: 0.0162 - accuracy: 0.9957\n",
      "Epoch 91: val_accuracy did not improve from 0.86544\n",
      "13/13 [==============================] - 3s 248ms/step - loss: 0.0162 - accuracy: 0.9957 - val_loss: 0.8276 - val_accuracy: 0.8399\n",
      "Epoch 92/100\n",
      "13/13 [==============================] - ETA: 0s - loss: 0.0191 - accuracy: 0.9921\n",
      "Epoch 92: val_accuracy did not improve from 0.86544\n",
      "13/13 [==============================] - 3s 272ms/step - loss: 0.0191 - accuracy: 0.9921 - val_loss: 0.7738 - val_accuracy: 0.8484\n",
      "Epoch 93/100\n",
      "13/13 [==============================] - ETA: 0s - loss: 0.0224 - accuracy: 0.9945\n",
      "Epoch 93: val_accuracy did not improve from 0.86544\n",
      "13/13 [==============================] - 3s 252ms/step - loss: 0.0224 - accuracy: 0.9945 - val_loss: 1.9622 - val_accuracy: 0.6955\n",
      "Epoch 94/100\n",
      "13/13 [==============================] - ETA: 0s - loss: 0.0201 - accuracy: 0.9951\n",
      "Epoch 94: val_accuracy did not improve from 0.86544\n",
      "13/13 [==============================] - 3s 259ms/step - loss: 0.0201 - accuracy: 0.9951 - val_loss: 0.8873 - val_accuracy: 0.8442\n",
      "Epoch 95/100\n",
      "13/13 [==============================] - ETA: 0s - loss: 0.0159 - accuracy: 0.9945\n",
      "Epoch 95: val_accuracy did not improve from 0.86544\n",
      "13/13 [==============================] - 3s 260ms/step - loss: 0.0159 - accuracy: 0.9945 - val_loss: 0.7486 - val_accuracy: 0.8456\n",
      "Epoch 96/100\n",
      "13/13 [==============================] - ETA: 0s - loss: 0.0141 - accuracy: 0.9951\n",
      "Epoch 96: val_accuracy did not improve from 0.86544\n",
      "13/13 [==============================] - 4s 277ms/step - loss: 0.0141 - accuracy: 0.9951 - val_loss: 0.7673 - val_accuracy: 0.8357\n",
      "Epoch 97/100\n",
      "13/13 [==============================] - ETA: 0s - loss: 0.0172 - accuracy: 0.9951\n",
      "Epoch 97: val_accuracy did not improve from 0.86544\n",
      "13/13 [==============================] - 3s 263ms/step - loss: 0.0172 - accuracy: 0.9951 - val_loss: 0.8946 - val_accuracy: 0.8074\n",
      "Epoch 98/100\n",
      "13/13 [==============================] - ETA: 0s - loss: 0.0078 - accuracy: 0.9982\n",
      "Epoch 98: val_accuracy did not improve from 0.86544\n",
      "13/13 [==============================] - 3s 260ms/step - loss: 0.0078 - accuracy: 0.9982 - val_loss: 0.8971 - val_accuracy: 0.8286\n",
      "Epoch 99/100\n",
      "13/13 [==============================] - ETA: 0s - loss: 0.0153 - accuracy: 0.9957\n",
      "Epoch 99: val_accuracy did not improve from 0.86544\n",
      "13/13 [==============================] - 3s 266ms/step - loss: 0.0153 - accuracy: 0.9957 - val_loss: 0.7858 - val_accuracy: 0.8499\n",
      "Epoch 100/100\n",
      "13/13 [==============================] - ETA: 0s - loss: 0.0077 - accuracy: 0.9976\n",
      "Epoch 100: val_accuracy did not improve from 0.86544\n",
      "13/13 [==============================] - 4s 282ms/step - loss: 0.0077 - accuracy: 0.9976 - val_loss: 0.7723 - val_accuracy: 0.8527\n"
     ]
    }
   ],
   "source": [
    "# training the model\n",
    "model_history = model.fit(X_train, y_train, epochs=100, batch_size=128,validation_data=(X_valid,y_valid),callbacks=callback_list)"
   ]
  },
  {
   "cell_type": "code",
   "execution_count": 25,
   "metadata": {
    "executionInfo": {
     "elapsed": 19,
     "status": "ok",
     "timestamp": 1712659342322,
     "user": {
      "displayName": "Axmed sahal cabduqadir",
      "userId": "12394894003524294182"
     },
     "user_tz": 420
    },
    "id": "ZclsOv5kbUgx"
   },
   "outputs": [],
   "source": [
    "model.load_weights(\"best_model.hdf5\")"
   ]
  },
  {
   "cell_type": "code",
   "execution_count": 1,
   "metadata": {
    "colab": {
     "base_uri": "https://localhost:8080/",
     "height": 158
    },
    "executionInfo": {
     "elapsed": 539,
     "status": "error",
     "timestamp": 1712659396034,
     "user": {
      "displayName": "Axmed sahal cabduqadir",
      "userId": "12394894003524294182"
     },
     "user_tz": 420
    },
    "id": "LQL1Kv6Eb-c1",
    "outputId": "20174cd3-1661-4834-ce90-dfc5fe284dc6"
   },
   "outputs": [
    {
     "ename": "NameError",
     "evalue": "name 'accuracy_score' is not defined",
     "output_type": "error",
     "traceback": [
      "\u001b[0;31m---------------------------------------------------------------------------\u001b[0m",
      "\u001b[0;31mNameError\u001b[0m                                 Traceback (most recent call last)",
      "\u001b[0;32m<ipython-input-1-7abe917faf63>\u001b[0m in \u001b[0;36m<cell line: 2>\u001b[0;34m()\u001b[0m\n\u001b[1;32m      1\u001b[0m \u001b[0;31m# accuracy on training set\u001b[0m\u001b[0;34m\u001b[0m\u001b[0;34m\u001b[0m\u001b[0m\n\u001b[0;32m----> 2\u001b[0;31m \u001b[0mprint\u001b[0m\u001b[0;34m(\u001b[0m\u001b[0;34m'Accuracy on training set:'\u001b[0m\u001b[0;34m,\u001b[0m \u001b[0maccuracy_score\u001b[0m\u001b[0;34m(\u001b[0m\u001b[0my_train\u001b[0m\u001b[0;34m,\u001b[0m \u001b[0mmodel\u001b[0m\u001b[0;34m.\u001b[0m\u001b[0mpredict\u001b[0m\u001b[0;34m(\u001b[0m\u001b[0mX_train\u001b[0m\u001b[0;34m)\u001b[0m\u001b[0;34m)\u001b[0m\u001b[0;34m,\u001b[0m \u001b[0;34m'%'\u001b[0m\u001b[0;34m)\u001b[0m\u001b[0;34m\u001b[0m\u001b[0;34m\u001b[0m\u001b[0m\n\u001b[0m",
      "\u001b[0;31mNameError\u001b[0m: name 'accuracy_score' is not defined"
     ]
    }
   ],
   "source": [
    "# accuracy on training set\n",
    "print('Accuracy on training set:', accuracy_score(y_train, model.predict(X_train)), '%')"
   ]
  },
  {
   "cell_type": "code",
   "execution_count": null,
   "metadata": {
    "executionInfo": {
     "elapsed": 12,
     "status": "aborted",
     "timestamp": 1712659342324,
     "user": {
      "displayName": "Axmed sahal cabduqadir",
      "userId": "12394894003524294182"
     },
     "user_tz": 420
    },
    "id": "lgJ3OiSPcWb_"
   },
   "outputs": [],
   "source": [
    "# accuracy on validation set\n",
    "print('Accuracy on validation set:', accuracy_score(y_valid, model.predict(X_valid)), '%')"
   ]
  },
  {
   "cell_type": "code",
   "execution_count": null,
   "metadata": {
    "executionInfo": {
     "elapsed": 12,
     "status": "aborted",
     "timestamp": 1712659342324,
     "user": {
      "displayName": "Axmed sahal cabduqadir",
      "userId": "12394894003524294182"
     },
     "user_tz": 420
    },
    "id": "wM-j49hkcczI"
   },
   "outputs": [],
   "source": [
    "# summarize history for loss\n",
    "plt.plot(model_history.history['loss'])\n",
    "plt.plot(model_history.history['val_loss'])\n",
    "plt.title('model loss')\n",
    "plt.ylabel('loss')\n",
    "plt.xlabel('epoch')\n",
    "plt.legend(['train', 'validation'], loc='upper left')\n",
    "plt.show()"
   ]
  },
  {
   "cell_type": "code",
   "execution_count": null,
   "metadata": {
    "executionInfo": {
     "elapsed": 12,
     "status": "aborted",
     "timestamp": 1712659342325,
     "user": {
      "displayName": "Axmed sahal cabduqadir",
      "userId": "12394894003524294182"
     },
     "user_tz": 420
    },
    "id": "9hFBNTxScfQ4"
   },
   "outputs": [],
   "source": [
    "# summarize history for accuracy\n",
    "plt.plot(model_history.history['acc'])\n",
    "plt.plot(model_history.history['val_acc'])\n",
    "plt.title('model accuracy')\n",
    "plt.ylabel('accuracy')\n",
    "plt.xlabel('epoch')\n",
    "plt.legend(['train', 'validation'], loc='upper left')\n",
    "plt.show()"
   ]
  },
  {
   "cell_type": "code",
   "execution_count": null,
   "metadata": {
    "id": "BNmy0IvkciW1"
   },
   "outputs": [],
   "source": []
  }
 ],
 "metadata": {
  "accelerator": "GPU",
  "colab": {
   "authorship_tag": "ABX9TyMeOwmhviaRIWG6EMhMo4Ux",
   "gpuType": "T4",
   "provenance": []
  },
  "kernelspec": {
   "display_name": "Python 3 (ipykernel)",
   "language": "python",
   "name": "python3"
  },
  "language_info": {
   "codemirror_mode": {
    "name": "ipython",
    "version": 3
   },
   "file_extension": ".py",
   "mimetype": "text/x-python",
   "name": "python",
   "nbconvert_exporter": "python",
   "pygments_lexer": "ipython3",
   "version": "3.11.5"
  }
 },
 "nbformat": 4,
 "nbformat_minor": 1
}
