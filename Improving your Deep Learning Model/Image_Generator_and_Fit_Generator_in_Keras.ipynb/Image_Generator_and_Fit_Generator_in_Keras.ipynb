{
 "cells": [
  {
   "cell_type": "code",
   "execution_count": 51,
   "metadata": {
    "colab": {
     "base_uri": "https://localhost:8080/",
     "height": 34
    },
    "colab_type": "code",
    "id": "1P6j-C2bTYes",
    "outputId": "3d8bba6a-a2f2-4733-90e5-3cb5d3086503"
   },
   "outputs": [
    {
     "name": "stderr",
     "output_type": "stream",
     "text": [
      "UsageError: Line magic function `%tensorflow_version` not found.\n"
     ]
    }
   ],
   "source": [
    "%tensorflow_version 1.x"
   ]
  },
  {
   "cell_type": "markdown",
   "metadata": {
    "colab_type": "text",
    "id": "tgzzqRXTv7UG"
   },
   "source": [
    "### 1. Importing Libraries and Data preprocessing"
   ]
  },
  {
   "cell_type": "code",
   "execution_count": 54,
   "metadata": {
    "colab": {},
    "colab_type": "code",
    "id": "yMXknA6I5g6k",
    "scrolled": true
   },
   "outputs": [],
   "source": [
    "# import necessary libraries\n",
    "import tensorflow\n",
    "import numpy as np\n",
    "import pandas as pd\n",
    "import matplotlib.pyplot as plt\n",
    "%matplotlib inline\n",
    "from tqdm import tqdm\n",
    "\n",
    "from sklearn.model_selection import train_test_split\n",
    "from sklearn.metrics import accuracy_score"
   ]
  },
  {
   "cell_type": "code",
   "execution_count": 28,
   "metadata": {
    "colab": {
     "base_uri": "https://localhost:8080/",
     "height": 124
    },
    "colab_type": "code",
    "id": "TiFgP2zG1PT5",
    "outputId": "dd73e479-e82c-4c64-baa3-c8bc76bbcb23"
   },
   "outputs": [],
   "source": [
    "# from google.colab import drive\n",
    "# drive.mount('/content/drive')"
   ]
  },
  {
   "cell_type": "code",
   "execution_count": 29,
   "metadata": {
    "colab": {
     "base_uri": "https://localhost:8080/",
     "height": 1000
    },
    "colab_type": "code",
    "id": "AitlsLNU1PQz",
    "outputId": "afdd6d2a-df0a-44c0-ea1c-e1a791b3f2f1"
   },
   "outputs": [],
   "source": [
    "# !unzip /content/drive/My\\ Drive/Dataset.zip"
   ]
  },
  {
   "cell_type": "code",
   "execution_count": 30,
   "metadata": {
    "colab": {},
    "colab_type": "code",
    "id": "ANnf-lUd5g6v"
   },
   "outputs": [],
   "source": [
    "# set seed\n",
    "seed = 42"
   ]
  },
  {
   "cell_type": "code",
   "execution_count": 31,
   "metadata": {
    "colab": {},
    "colab_type": "code",
    "id": "-SpTX9z95g61"
   },
   "outputs": [],
   "source": [
    "# load csv file\n",
    "data = pd.read_csv('emergency_classification.csv')"
   ]
  },
  {
   "cell_type": "code",
   "execution_count": 32,
   "metadata": {
    "colab": {},
    "colab_type": "code",
    "id": "MWvmRr0P5g66"
   },
   "outputs": [],
   "source": [
    "# load images and store it in numpy array\n",
    "\n",
    "# empty list to store the images\n",
    "X = []\n",
    "# iterating over each image\n",
    "for img_name in data.image_names:\n",
    "    # loading the image using its name\n",
    "    img = plt.imread('images/' + img_name)\n",
    "    # normalizing the pixel values\n",
    "    img = img/255\n",
    "    # saving each image in the list\n",
    "    X.append(img)\n",
    "    \n",
    "# converting the list of images into array\n",
    "X=np.array(X)\n",
    "\n",
    "# storing the target variable in separate variable\n",
    "y = data.emergency_or_not.values"
   ]
  },
  {
   "cell_type": "code",
   "execution_count": 33,
   "metadata": {
    "colab": {
     "base_uri": "https://localhost:8080/",
     "height": 52
    },
    "colab_type": "code",
    "id": "ik_W3Q4w5g7I",
    "outputId": "b4c78944-55c8-4efa-bbfb-11673f5c478b"
   },
   "outputs": [
    {
     "name": "stdout",
     "output_type": "stream",
     "text": [
      "X_train: (1646, 224, 224, 3) X_valid: (706, 224, 224, 3)\n",
      "y_train: (1646,) y_valid: (706,)\n"
     ]
    }
   ],
   "source": [
    "# creating a training and validation set\n",
    "X_train, X_valid, y_train, y_valid=train_test_split(X,y,test_size=0.3, random_state=seed)\n",
    "\n",
    "print(\"X_train:\", X_train.shape, \"X_valid:\", X_valid.shape)\n",
    "print(\"y_train:\", y_train.shape, \"y_valid:\", y_valid.shape)"
   ]
  },
  {
   "cell_type": "markdown",
   "metadata": {
    "colab_type": "text",
    "id": "4_81e7Wi_ZA8"
   },
   "source": [
    "## Image Augmentation using Keras (ImageDataGenerator)"
   ]
  },
  {
   "cell_type": "code",
   "execution_count": 60,
   "metadata": {
    "colab": {
     "base_uri": "https://localhost:8080/",
     "height": 34
    },
    "colab_type": "code",
    "id": "R9QLfVkZF7v8",
    "outputId": "8b4cfc30-3bfb-460d-b709-27d6920118ac"
   },
   "outputs": [],
   "source": [
    "from tensorflow.keras.preprocessing.image import ImageDataGenerator"
   ]
  },
  {
   "cell_type": "code",
   "execution_count": 61,
   "metadata": {
    "colab": {},
    "colab_type": "code",
    "id": "0rNjmODlF7iC"
   },
   "outputs": [],
   "source": [
    "image_augmentation = ImageDataGenerator(rotation_range=30, width_shift_range=40, height_shift_range=40, \n",
    "                              horizontal_flip=True, vertical_flip=True, fill_mode=\"nearest\")"
   ]
  },
  {
   "cell_type": "code",
   "execution_count": 62,
   "metadata": {
    "colab": {},
    "colab_type": "code",
    "id": "w7U_9KpJ7tVs"
   },
   "outputs": [],
   "source": [
    "image_augmentation.fit(X_train)"
   ]
  },
  {
   "cell_type": "markdown",
   "metadata": {
    "colab_type": "text",
    "id": "7W7AKs0s5g7M"
   },
   "source": [
    "### 2. Model Building"
   ]
  },
  {
   "cell_type": "code",
   "execution_count": 63,
   "metadata": {
    "colab": {},
    "colab_type": "code",
    "id": "RRxcjdUn4k9J"
   },
   "outputs": [],
   "source": [
    "# importing functions from keras to define the neural network architecture\n",
    "from keras.layers import Dense, InputLayer, Dropout, BatchNormalization, Flatten\n",
    "from keras.models import Sequential\n",
    "# importing adam optimizer from keras optimizer module \n",
    "from keras.optimizers import Adam"
   ]
  },
  {
   "cell_type": "code",
   "execution_count": 64,
   "metadata": {
    "colab": {},
    "colab_type": "code",
    "id": "3cc_CF0f4sK9"
   },
   "outputs": [],
   "source": [
    "# defining the adam optimizer and setting the learning rate as 10^-5\n",
    "adam = Adam(learning_rate=1e-5)"
   ]
  },
  {
   "cell_type": "code",
   "execution_count": 65,
   "metadata": {
    "colab": {
     "base_uri": "https://localhost:8080/",
     "height": 350
    },
    "colab_type": "code",
    "id": "WueKMOgDGQMo",
    "outputId": "8239feee-6391-4004-f990-006d350a731e"
   },
   "outputs": [],
   "source": [
    "# defining and compiling the model architecture\n",
    "model=Sequential()\n",
    "model.add(InputLayer(input_shape=(224,224,3)))\n",
    "model.add(Flatten())\n",
    "model.add(Dense(100, activation='sigmoid'))\n",
    "model.add(BatchNormalization())\n",
    "model.add(Dropout(rate=0.5))\n",
    "model.add(Dense(100, activation='sigmoid'))\n",
    "model.add(BatchNormalization())\n",
    "model.add(Dropout(rate=0.5))\n",
    "model.add(Dense(units=1, activation='sigmoid'))\n",
    "\n",
    "model.compile(loss='binary_crossentropy', optimizer=adam, metrics=['accuracy'])"
   ]
  },
  {
   "cell_type": "code",
   "execution_count": 67,
   "metadata": {
    "colab": {
     "base_uri": "https://localhost:8080/",
     "height": 1000
    },
    "colab_type": "code",
    "id": "uZjXJLdU5g8V",
    "outputId": "a6f53458-2598-4ec2-a43d-f6cc1a76cc07"
   },
   "outputs": [
    {
     "ename": "AttributeError",
     "evalue": "'Sequential' object has no attribute 'fit_generator'",
     "output_type": "error",
     "traceback": [
      "\u001b[1;31m---------------------------------------------------------------------------\u001b[0m",
      "\u001b[1;31mAttributeError\u001b[0m                            Traceback (most recent call last)",
      "Cell \u001b[1;32mIn[67], line 2\u001b[0m\n\u001b[0;32m      1\u001b[0m \u001b[38;5;66;03m# fits the model on batches with real-time data augmentation:\u001b[39;00m\n\u001b[1;32m----> 2\u001b[0m model_history \u001b[38;5;241m=\u001b[39m model\u001b[38;5;241m.\u001b[39mfit_generator(image_augmentation\u001b[38;5;241m.\u001b[39mflow(X_train, y_train, batch_size\u001b[38;5;241m=\u001b[39m\u001b[38;5;241m128\u001b[39m), validation_data\u001b[38;5;241m=\u001b[39m(X_valid, y_valid), epochs\u001b[38;5;241m=\u001b[39m\u001b[38;5;241m50\u001b[39m)\n",
      "\u001b[1;31mAttributeError\u001b[0m: 'Sequential' object has no attribute 'fit_generator'"
     ]
    }
   ],
   "source": [
    "# fits the model on batches with real-time data augmentation:\n",
    "model_history = model.fit_generator(image_augmentation.flow(X_train, y_train, batch_size=128), validation_data=(X_valid, y_valid), epochs=50)"
   ]
  },
  {
   "cell_type": "code",
   "execution_count": 0,
   "metadata": {
    "colab": {
     "base_uri": "https://localhost:8080/",
     "height": 295
    },
    "colab_type": "code",
    "id": "VZvqoE-V-c4i",
    "outputId": "7918287e-265d-4bb4-da9c-3f42d182ba5b"
   },
   "outputs": [
    {
     "data": {
      "image/png": "[encoded data removed]",
      "text/plain": [
       "<Figure size 432x288 with 1 Axes>"
      ]
     },
     "metadata": {
      "tags": []
     },
     "output_type": "display_data"
    }
   ],
   "source": [
    "# summarize history for loss\n",
    "plt.plot(model_history.history['loss'])\n",
    "plt.plot(model_history.history['val_loss'])\n",
    "plt.title('model loss')\n",
    "plt.ylabel('loss')\n",
    "plt.xlabel('epoch')\n",
    "plt.legend(['train', 'validation'], loc='upper right')\n",
    "plt.show()"
   ]
  },
  {
   "cell_type": "code",
   "execution_count": 0,
   "metadata": {
    "colab": {
     "base_uri": "https://localhost:8080/",
     "height": 295
    },
    "colab_type": "code",
    "id": "Dg--s8EO-esp",
    "outputId": "ce32605b-f459-4709-ec6e-7e5fac5e0831"
   },
   "outputs": [
    {
     "data": {
      "image/png": "[encoded data removed]",
      "text/plain": [
       "<Figure size 432x288 with 1 Axes>"
      ]
     },
     "metadata": {
      "tags": []
     },
     "output_type": "display_data"
    }
   ],
   "source": [
    "# summarize history for accuracy\n",
    "plt.plot(model_history.history['acc'])\n",
    "plt.plot(model_history.history['val_acc'])\n",
    "plt.title('model accuracy')\n",
    "plt.ylabel('accuracy')\n",
    "plt.xlabel('epoch')\n",
    "plt.legend(['train', 'validation'], loc='upper right')\n",
    "plt.show()"
   ]
  },
  {
   "cell_type": "code",
   "execution_count": 0,
   "metadata": {
    "colab": {
     "base_uri": "https://localhost:8080/",
     "height": 69
    },
    "colab_type": "code",
    "id": "KZnBDHXpuUod",
    "outputId": "57ddf18b-220c-41ab-9753-44cc7f48d4fe"
   },
   "outputs": [
    {
     "name": "stdout",
     "output_type": "stream",
     "text": [
      "Training Accuracy:  0.6743620899149453\n",
      "\n",
      "Validation Accuracy:  0.6487252124645893\n"
     ]
    }
   ],
   "source": [
    "print('Training Accuracy: ', accuracy_score(y_train, model.predict_classes(X_train)[:,0]))\n",
    "print('\\nValidation Accuracy: ', accuracy_score(y_valid, model.predict_classes(X_valid)[:,0]))"
   ]
  },
  {
   "cell_type": "code",
   "execution_count": 0,
   "metadata": {
    "colab": {},
    "colab_type": "code",
    "id": "Z1h1aKDUXWzE"
   },
   "outputs": [],
   "source": []
  }
 ],
 "metadata": {
  "accelerator": "GPU",
  "colab": {
   "collapsed_sections": [],
   "machine_shape": "hm",
   "name": "3. Image Generator and Fit Generator in Keras.ipynb",
   "provenance": []
  },
  "kernelspec": {
   "display_name": "Python 3 (ipykernel)",
   "language": "python",
   "name": "python3"
  },
  "language_info": {
   "codemirror_mode": {
    "name": "ipython",
    "version": 3
   },
   "file_extension": ".py",
   "mimetype": "text/x-python",
   "name": "python",
   "nbconvert_exporter": "python",
   "pygments_lexer": "ipython3",
   "version": "3.11.5"
  }
 },
 "nbformat": 4,
 "nbformat_minor": 1
}
