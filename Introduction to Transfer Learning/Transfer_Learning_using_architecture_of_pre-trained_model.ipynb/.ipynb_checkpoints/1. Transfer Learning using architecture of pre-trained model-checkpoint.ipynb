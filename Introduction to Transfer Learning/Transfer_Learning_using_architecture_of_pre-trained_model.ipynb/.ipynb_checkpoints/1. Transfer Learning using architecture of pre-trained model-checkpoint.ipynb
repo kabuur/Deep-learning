{
 "cells": [
  {
   "cell_type": "code",
   "execution_count": 1,
   "metadata": {
    "colab": {
     "base_uri": "https://localhost:8080/",
     "height": 34
    },
    "colab_type": "code",
    "executionInfo": {
     "elapsed": 3355,
     "status": "ok",
     "timestamp": 1585494598784,
     "user": {
      "displayName": "Kunal Jain",
      "photoUrl": "https://lh3.googleusercontent.com/a-/AOh14Gj8PPO8bvAxwEC7kllsn4dfq49qdmCjlc0PNTHy8rxPksaIBmTM63-nUihJ8QIc-vDCxStC55F9NSZJZuTEuA1k3-kkjKoL1j4oh_SexB3-qVGcBj0MkYMVd0zy4KZ4m3TPfpemauWtmHoK0vJQr-GLX6prSp4bRuzxyOjIJNMQBharHllzSAkm74YRCo-ZnOqpgP_Fnwm4umGbGx_rZZ7NRIB5FmpsxSB0fKhqyyDEpE8TPKjRr0Ligxljwsq1y45AfFcdj3ZMjurxxpYb-ongOWl7qAYtSFg-9-tSjk4tjWEEuBOICgF2trqEJly-bIr4Y3BKtEf7dg_B_Q4Mcc-1VbI5Yhlql39chOYMMwse5pEX87cHxRBQzWo5x_s1NLyHFH4CakaiazPuphnk-gGQwVN-sJj3lIw9PBGfWaA295PgzKodu44nP5TIfW0e5TOZbky_1WPPLIenrkUImA66NIPtlN9hBTomwTcuvvcCltFvu6y-lDcB_gFytHuxx0MbCzF373_Hq4BlVW4OS-SQPYuZpzi10TkRdjISooCZ3qiSW7se3o1oTHd9kUqb6ojwqiv29FHq1HqVdjGHXDltrJ95g667iGoNXpzSoYDfbdP5ZS68yAZYRImsNfwn3OAzKSxSzLeCH8N3Q9fg3XOZC2Gy7dXYMNQ_DLqHdAYpHcqEoEDs3LSACxEYU8a4O81ZycrdFcpZmJi4FjGYgbZTUK0Sim9XYqMmhfnss8BwqLLwdAKoPDQqCk1c2ZePurybcQ=s64",
      "userId": "08522938991278351783"
     },
     "user_tz": -330
    },
    "id": "HBAs6cQ7G8RM",
    "outputId": "10e65ea2-fb38-4d56-a9ec-3c357ae66485"
   },
   "outputs": [],
   "source": [
    "# %tensorflow_version 1.x\n"
   ]
  },
  {
   "cell_type": "markdown",
   "metadata": {
    "colab_type": "text",
    "id": "iMnQo7P_7LWr"
   },
   "source": [
    "## Transfer Learning using architecture of pre-trained model\n",
    "\n",
    "1. Import necessary libraries\n",
    "2. Load the data\n",
    "3. Pre-Process the data\n",
    "4. Load the architecture of pretrained model\n",
    "5. Train the model\n",
    "6. Get predictions"
   ]
  },
  {
   "cell_type": "markdown",
   "metadata": {
    "colab_type": "text",
    "id": "GhKQy59w7LXQ"
   },
   "source": [
    "## 1. Import neccessary libraries"
   ]
  },
  {
   "cell_type": "markdown",
   "metadata": {
    "colab_type": "text",
    "id": "A-aLz3kd7LXU"
   },
   "source": [
    "Here we will import the required libraries and functions."
   ]
  },
  {
   "cell_type": "code",
   "execution_count": 2,
   "metadata": {
    "colab": {
     "base_uri": "https://localhost:8080/",
     "height": 34
    },
    "colab_type": "code",
    "executionInfo": {
     "elapsed": 8741,
     "status": "ok",
     "timestamp": 1585494615372,
     "user": {
      "displayName": "Kunal Jain",
      "photoUrl": "https://lh3.googleusercontent.com/a-/AOh14Gj8PPO8bvAxwEC7kllsn4dfq49qdmCjlc0PNTHy8rxPksaIBmTM63-nUihJ8QIc-vDCxStC55F9NSZJZuTEuA1k3-kkjKoL1j4oh_SexB3-qVGcBj0MkYMVd0zy4KZ4m3TPfpemauWtmHoK0vJQr-GLX6prSp4bRuzxyOjIJNMQBharHllzSAkm74YRCo-ZnOqpgP_Fnwm4umGbGx_rZZ7NRIB5FmpsxSB0fKhqyyDEpE8TPKjRr0Ligxljwsq1y45AfFcdj3ZMjurxxpYb-ongOWl7qAYtSFg-9-tSjk4tjWEEuBOICgF2trqEJly-bIr4Y3BKtEf7dg_B_Q4Mcc-1VbI5Yhlql39chOYMMwse5pEX87cHxRBQzWo5x_s1NLyHFH4CakaiazPuphnk-gGQwVN-sJj3lIw9PBGfWaA295PgzKodu44nP5TIfW0e5TOZbky_1WPPLIenrkUImA66NIPtlN9hBTomwTcuvvcCltFvu6y-lDcB_gFytHuxx0MbCzF373_Hq4BlVW4OS-SQPYuZpzi10TkRdjISooCZ3qiSW7se3o1oTHd9kUqb6ojwqiv29FHq1HqVdjGHXDltrJ95g667iGoNXpzSoYDfbdP5ZS68yAZYRImsNfwn3OAzKSxSzLeCH8N3Q9fg3XOZC2Gy7dXYMNQ_DLqHdAYpHcqEoEDs3LSACxEYU8a4O81ZycrdFcpZmJi4FjGYgbZTUK0Sim9XYqMmhfnss8BwqLLwdAKoPDQqCk1c2ZePurybcQ=s64",
      "userId": "08522938991278351783"
     },
     "user_tz": -330
    },
    "id": "wqvacIQ37LXY",
    "outputId": "fd12f461-a962-4c86-da01-b30deff3d370"
   },
   "outputs": [],
   "source": [
    "# import necessary libraries for plotting images\n",
    "import numpy as np\n",
    "import matplotlib.pyplot as plt\n",
    "# plot in jupyter notebook itself\n",
    "%matplotlib inline\n",
    "from glob import glob\n",
    "import pandas as pd\n",
    "from sklearn.model_selection import train_test_split\n",
    "from sklearn.metrics import accuracy_score\n",
    "\n",
    "from keras.models import Model\n",
    "from keras.utils import to_categorical\n",
    "#used to preprocess data according to VGG16\n",
    "from keras.applications.vgg16 import preprocess_input\n",
    "#for instantiating the model and loading the weights and biases\n",
    "from keras.applications.vgg16 import VGG16\n",
    "from keras.models import Sequential\n",
    "from keras.layers import Dense, InputLayer"
   ]
  },
  {
   "cell_type": "markdown",
   "metadata": {
    "colab_type": "text",
    "id": "a3Bk_xGH7LXm"
   },
   "source": [
    "## 2. Load the data"
   ]
  },
  {
   "cell_type": "code",
   "execution_count": 3,
   "metadata": {
    "colab": {
     "base_uri": "https://localhost:8080/",
     "height": 122
    },
    "colab_type": "code",
    "executionInfo": {
     "elapsed": 36274,
     "status": "ok",
     "timestamp": 1585494662279,
     "user": {
      "displayName": "Kunal Jain",
      "photoUrl": "https://lh3.googleusercontent.com/a-/AOh14Gj8PPO8bvAxwEC7kllsn4dfq49qdmCjlc0PNTHy8rxPksaIBmTM63-nUihJ8QIc-vDCxStC55F9NSZJZuTEuA1k3-kkjKoL1j4oh_SexB3-qVGcBj0MkYMVd0zy4KZ4m3TPfpemauWtmHoK0vJQr-GLX6prSp4bRuzxyOjIJNMQBharHllzSAkm74YRCo-ZnOqpgP_Fnwm4umGbGx_rZZ7NRIB5FmpsxSB0fKhqyyDEpE8TPKjRr0Ligxljwsq1y45AfFcdj3ZMjurxxpYb-ongOWl7qAYtSFg-9-tSjk4tjWEEuBOICgF2trqEJly-bIr4Y3BKtEf7dg_B_Q4Mcc-1VbI5Yhlql39chOYMMwse5pEX87cHxRBQzWo5x_s1NLyHFH4CakaiazPuphnk-gGQwVN-sJj3lIw9PBGfWaA295PgzKodu44nP5TIfW0e5TOZbky_1WPPLIenrkUImA66NIPtlN9hBTomwTcuvvcCltFvu6y-lDcB_gFytHuxx0MbCzF373_Hq4BlVW4OS-SQPYuZpzi10TkRdjISooCZ3qiSW7se3o1oTHd9kUqb6ojwqiv29FHq1HqVdjGHXDltrJ95g667iGoNXpzSoYDfbdP5ZS68yAZYRImsNfwn3OAzKSxSzLeCH8N3Q9fg3XOZC2Gy7dXYMNQ_DLqHdAYpHcqEoEDs3LSACxEYU8a4O81ZycrdFcpZmJi4FjGYgbZTUK0Sim9XYqMmhfnss8BwqLLwdAKoPDQqCk1c2ZePurybcQ=s64",
      "userId": "08522938991278351783"
     },
     "user_tz": -330
    },
    "id": "x_VY_HZ5hm-z",
    "outputId": "27059702-90ea-4e24-ac1b-057a01c802b9"
   },
   "outputs": [],
   "source": [
    "# from google.colab import drive\n",
    "# drive.mount('/content/drive')"
   ]
  },
  {
   "cell_type": "code",
   "execution_count": 4,
   "metadata": {
    "colab": {
     "base_uri": "https://localhost:8080/",
     "height": 1000
    },
    "colab_type": "code",
    "executionInfo": {
     "elapsed": 6749,
     "status": "ok",
     "timestamp": 1585494689511,
     "user": {
      "displayName": "Kunal Jain",
      "photoUrl": "https://lh3.googleusercontent.com/a-/AOh14Gj8PPO8bvAxwEC7kllsn4dfq49qdmCjlc0PNTHy8rxPksaIBmTM63-nUihJ8QIc-vDCxStC55F9NSZJZuTEuA1k3-kkjKoL1j4oh_SexB3-qVGcBj0MkYMVd0zy4KZ4m3TPfpemauWtmHoK0vJQr-GLX6prSp4bRuzxyOjIJNMQBharHllzSAkm74YRCo-ZnOqpgP_Fnwm4umGbGx_rZZ7NRIB5FmpsxSB0fKhqyyDEpE8TPKjRr0Ligxljwsq1y45AfFcdj3ZMjurxxpYb-ongOWl7qAYtSFg-9-tSjk4tjWEEuBOICgF2trqEJly-bIr4Y3BKtEf7dg_B_Q4Mcc-1VbI5Yhlql39chOYMMwse5pEX87cHxRBQzWo5x_s1NLyHFH4CakaiazPuphnk-gGQwVN-sJj3lIw9PBGfWaA295PgzKodu44nP5TIfW0e5TOZbky_1WPPLIenrkUImA66NIPtlN9hBTomwTcuvvcCltFvu6y-lDcB_gFytHuxx0MbCzF373_Hq4BlVW4OS-SQPYuZpzi10TkRdjISooCZ3qiSW7se3o1oTHd9kUqb6ojwqiv29FHq1HqVdjGHXDltrJ95g667iGoNXpzSoYDfbdP5ZS68yAZYRImsNfwn3OAzKSxSzLeCH8N3Q9fg3XOZC2Gy7dXYMNQ_DLqHdAYpHcqEoEDs3LSACxEYU8a4O81ZycrdFcpZmJi4FjGYgbZTUK0Sim9XYqMmhfnss8BwqLLwdAKoPDQqCk1c2ZePurybcQ=s64",
      "userId": "08522938991278351783"
     },
     "user_tz": -330
    },
    "id": "1bb6wmB1hmvk",
    "outputId": "d863e375-2892-49f4-b138-570223335b97"
   },
   "outputs": [],
   "source": [
    "# unzipping the Dataset.zip file\n",
    "# !unzip /content/drive/My\\ Drive/Dataset.zip"
   ]
  },
  {
   "cell_type": "code",
   "execution_count": 0,
   "metadata": {
    "colab": {},
    "colab_type": "code",
    "id": "bBoa3LGa7LXq"
   },
   "outputs": [],
   "source": [
    "#reading the csv file containing data labels\n",
    "data = pd.read_csv('emergency_classification.csv')"
   ]
  },
  {
   "cell_type": "code",
   "execution_count": 0,
   "metadata": {
    "colab": {},
    "colab_type": "code",
    "id": "IniNNq067LYF"
   },
   "outputs": [],
   "source": [
    "# create an empty python list\n",
    "X = []\n",
    "\n",
    "# go through all the image locations one by one\n",
    "for img_name in data.image_names:\n",
    "    # read the image from location\n",
    "    img = plt.imread('images/' + img_name)\n",
    "    # pile it one over the other\n",
    "    X.append(img)\n",
    "    \n",
    "# convert this python list to a single numpy array\n",
    "X = np.array(X)"
   ]
  },
  {
   "cell_type": "code",
   "execution_count": 0,
   "metadata": {
    "colab": {},
    "colab_type": "code",
    "id": "3Vvni78T7LYP"
   },
   "outputs": [],
   "source": [
    "#getting the labels for images\n",
    "y = data.emergency_or_not.values"
   ]
  },
  {
   "cell_type": "markdown",
   "metadata": {
    "colab_type": "text",
    "id": "uf5qmAzL7LY8"
   },
   "source": [
    "## 3. Pre-Process the data"
   ]
  },
  {
   "cell_type": "markdown",
   "metadata": {
    "colab_type": "text",
    "id": "XVsVf1nq7LZA"
   },
   "source": [
    "Steps : \n",
    "1. Pre-process the data as per model's requirement\n",
    "2. Prepare training and validation set"
   ]
  },
  {
   "cell_type": "code",
   "execution_count": 0,
   "metadata": {
    "colab": {},
    "colab_type": "code",
    "id": "r_5xd5KU7LZR"
   },
   "outputs": [],
   "source": [
    "#preprocess input images accordiing to requirements of VGG16 model\n",
    "X = preprocess_input(X, mode='tf')"
   ]
  },
  {
   "cell_type": "code",
   "execution_count": 0,
   "metadata": {
    "colab": {},
    "colab_type": "code",
    "id": "E6l8ry2I6fLH"
   },
   "outputs": [],
   "source": [
    "#converting label to categorical i.e instead of 0/1 labels we have 2 columns emergency and non-emergency\n",
    "# with only one of them is true for every image\n",
    "y = to_categorical(y)"
   ]
  },
  {
   "cell_type": "code",
   "execution_count": 0,
   "metadata": {
    "colab": {},
    "colab_type": "code",
    "id": "FsCCm9bc7LZm"
   },
   "outputs": [],
   "source": [
    "# splitting the dataset into training and validation sets\n",
    "X_train, X_valid, y_train, y_valid = train_test_split(X, y, test_size=0.3, random_state=42)"
   ]
  },
  {
   "cell_type": "markdown",
   "metadata": {
    "colab_type": "text",
    "id": "4DMgEvEB7LZx"
   },
   "source": [
    "## 4. Load the architecture of pretrained model"
   ]
  },
  {
   "cell_type": "code",
   "execution_count": 11,
   "metadata": {
    "colab": {
     "base_uri": "https://localhost:8080/",
     "height": 411
    },
    "colab_type": "code",
    "executionInfo": {
     "elapsed": 45604,
     "status": "ok",
     "timestamp": 1585494862565,
     "user": {
      "displayName": "Kunal Jain",
      "photoUrl": "https://lh3.googleusercontent.com/a-/AOh14Gj8PPO8bvAxwEC7kllsn4dfq49qdmCjlc0PNTHy8rxPksaIBmTM63-nUihJ8QIc-vDCxStC55F9NSZJZuTEuA1k3-kkjKoL1j4oh_SexB3-qVGcBj0MkYMVd0zy4KZ4m3TPfpemauWtmHoK0vJQr-GLX6prSp4bRuzxyOjIJNMQBharHllzSAkm74YRCo-ZnOqpgP_Fnwm4umGbGx_rZZ7NRIB5FmpsxSB0fKhqyyDEpE8TPKjRr0Ligxljwsq1y45AfFcdj3ZMjurxxpYb-ongOWl7qAYtSFg-9-tSjk4tjWEEuBOICgF2trqEJly-bIr4Y3BKtEf7dg_B_Q4Mcc-1VbI5Yhlql39chOYMMwse5pEX87cHxRBQzWo5x_s1NLyHFH4CakaiazPuphnk-gGQwVN-sJj3lIw9PBGfWaA295PgzKodu44nP5TIfW0e5TOZbky_1WPPLIenrkUImA66NIPtlN9hBTomwTcuvvcCltFvu6y-lDcB_gFytHuxx0MbCzF373_Hq4BlVW4OS-SQPYuZpzi10TkRdjISooCZ3qiSW7se3o1oTHd9kUqb6ojwqiv29FHq1HqVdjGHXDltrJ95g667iGoNXpzSoYDfbdP5ZS68yAZYRImsNfwn3OAzKSxSzLeCH8N3Q9fg3XOZC2Gy7dXYMNQ_DLqHdAYpHcqEoEDs3LSACxEYU8a4O81ZycrdFcpZmJi4FjGYgbZTUK0Sim9XYqMmhfnss8BwqLLwdAKoPDQqCk1c2ZePurybcQ=s64",
      "userId": "08522938991278351783"
     },
     "user_tz": -330
    },
    "id": "bqtH_K4f7LZz",
    "outputId": "b9825fd5-ad52-4928-fb11-c9647b9f91ba"
   },
   "outputs": [
    {
     "name": "stdout",
     "output_type": "stream",
     "text": [
      "WARNING:tensorflow:From /usr/local/lib/python3.6/dist-packages/keras/backend/tensorflow_backend.py:66: The name tf.get_default_graph is deprecated. Please use tf.compat.v1.get_default_graph instead.\n",
      "\n",
      "WARNING:tensorflow:From /usr/local/lib/python3.6/dist-packages/keras/backend/tensorflow_backend.py:541: The name tf.placeholder is deprecated. Please use tf.compat.v1.placeholder instead.\n",
      "\n",
      "WARNING:tensorflow:From /usr/local/lib/python3.6/dist-packages/keras/backend/tensorflow_backend.py:4432: The name tf.random_uniform is deprecated. Please use tf.random.uniform instead.\n",
      "\n",
      "WARNING:tensorflow:From /usr/local/lib/python3.6/dist-packages/keras/backend/tensorflow_backend.py:4267: The name tf.nn.max_pool is deprecated. Please use tf.nn.max_pool2d instead.\n",
      "\n",
      "Downloading data from https://github.com/fchollet/deep-learning-models/releases/download/v0.1/vgg16_weights_tf_dim_ordering_tf_kernels.h5\n",
      "553467904/553467096 [==============================] - 34s 0us/step\n",
      "WARNING:tensorflow:From /usr/local/lib/python3.6/dist-packages/keras/backend/tensorflow_backend.py:190: The name tf.get_default_session is deprecated. Please use tf.compat.v1.get_default_session instead.\n",
      "\n",
      "WARNING:tensorflow:From /usr/local/lib/python3.6/dist-packages/keras/backend/tensorflow_backend.py:197: The name tf.ConfigProto is deprecated. Please use tf.compat.v1.ConfigProto instead.\n",
      "\n",
      "WARNING:tensorflow:From /usr/local/lib/python3.6/dist-packages/keras/backend/tensorflow_backend.py:203: The name tf.Session is deprecated. Please use tf.compat.v1.Session instead.\n",
      "\n",
      "WARNING:tensorflow:From /usr/local/lib/python3.6/dist-packages/keras/backend/tensorflow_backend.py:207: The name tf.global_variables is deprecated. Please use tf.compat.v1.global_variables instead.\n",
      "\n",
      "WARNING:tensorflow:From /usr/local/lib/python3.6/dist-packages/keras/backend/tensorflow_backend.py:216: The name tf.is_variable_initialized is deprecated. Please use tf.compat.v1.is_variable_initialized instead.\n",
      "\n",
      "WARNING:tensorflow:From /usr/local/lib/python3.6/dist-packages/keras/backend/tensorflow_backend.py:223: The name tf.variables_initializer is deprecated. Please use tf.compat.v1.variables_initializer instead.\n",
      "\n"
     ]
    }
   ],
   "source": [
    "# creating model with pre trained imagenet weights\n",
    "base_model = VGG16(weights='imagenet')"
   ]
  },
  {
   "cell_type": "code",
   "execution_count": 12,
   "metadata": {
    "colab": {
     "base_uri": "https://localhost:8080/",
     "height": 935
    },
    "colab_type": "code",
    "executionInfo": {
     "elapsed": 1802,
     "status": "ok",
     "timestamp": 1585494870557,
     "user": {
      "displayName": "Kunal Jain",
      "photoUrl": "https://lh3.googleusercontent.com/a-/AOh14Gj8PPO8bvAxwEC7kllsn4dfq49qdmCjlc0PNTHy8rxPksaIBmTM63-nUihJ8QIc-vDCxStC55F9NSZJZuTEuA1k3-kkjKoL1j4oh_SexB3-qVGcBj0MkYMVd0zy4KZ4m3TPfpemauWtmHoK0vJQr-GLX6prSp4bRuzxyOjIJNMQBharHllzSAkm74YRCo-ZnOqpgP_Fnwm4umGbGx_rZZ7NRIB5FmpsxSB0fKhqyyDEpE8TPKjRr0Ligxljwsq1y45AfFcdj3ZMjurxxpYb-ongOWl7qAYtSFg-9-tSjk4tjWEEuBOICgF2trqEJly-bIr4Y3BKtEf7dg_B_Q4Mcc-1VbI5Yhlql39chOYMMwse5pEX87cHxRBQzWo5x_s1NLyHFH4CakaiazPuphnk-gGQwVN-sJj3lIw9PBGfWaA295PgzKodu44nP5TIfW0e5TOZbky_1WPPLIenrkUImA66NIPtlN9hBTomwTcuvvcCltFvu6y-lDcB_gFytHuxx0MbCzF373_Hq4BlVW4OS-SQPYuZpzi10TkRdjISooCZ3qiSW7se3o1oTHd9kUqb6ojwqiv29FHq1HqVdjGHXDltrJ95g667iGoNXpzSoYDfbdP5ZS68yAZYRImsNfwn3OAzKSxSzLeCH8N3Q9fg3XOZC2Gy7dXYMNQ_DLqHdAYpHcqEoEDs3LSACxEYU8a4O81ZycrdFcpZmJi4FjGYgbZTUK0Sim9XYqMmhfnss8BwqLLwdAKoPDQqCk1c2ZePurybcQ=s64",
      "userId": "08522938991278351783"
     },
     "user_tz": -330
    },
    "id": "7KcP5C9l7LZ8",
    "outputId": "a1f9ff26-6f3d-40b1-c1e0-3c1f28d241d6"
   },
   "outputs": [
    {
     "name": "stdout",
     "output_type": "stream",
     "text": [
      "Model: \"vgg16\"\n",
      "_________________________________________________________________\n",
      "Layer (type)                 Output Shape              Param #   \n",
      "=================================================================\n",
      "input_1 (InputLayer)         (None, 224, 224, 3)       0         \n",
      "_________________________________________________________________\n",
      "block1_conv1 (Conv2D)        (None, 224, 224, 64)      1792      \n",
      "_________________________________________________________________\n",
      "block1_conv2 (Conv2D)        (None, 224, 224, 64)      36928     \n",
      "_________________________________________________________________\n",
      "block1_pool (MaxPooling2D)   (None, 112, 112, 64)      0         \n",
      "_________________________________________________________________\n",
      "block2_conv1 (Conv2D)        (None, 112, 112, 128)     73856     \n",
      "_________________________________________________________________\n",
      "block2_conv2 (Conv2D)        (None, 112, 112, 128)     147584    \n",
      "_________________________________________________________________\n",
      "block2_pool (MaxPooling2D)   (None, 56, 56, 128)       0         \n",
      "_________________________________________________________________\n",
      "block3_conv1 (Conv2D)        (None, 56, 56, 256)       295168    \n",
      "_________________________________________________________________\n",
      "block3_conv2 (Conv2D)        (None, 56, 56, 256)       590080    \n",
      "_________________________________________________________________\n",
      "block3_conv3 (Conv2D)        (None, 56, 56, 256)       590080    \n",
      "_________________________________________________________________\n",
      "block3_pool (MaxPooling2D)   (None, 28, 28, 256)       0         \n",
      "_________________________________________________________________\n",
      "block4_conv1 (Conv2D)        (None, 28, 28, 512)       1180160   \n",
      "_________________________________________________________________\n",
      "block4_conv2 (Conv2D)        (None, 28, 28, 512)       2359808   \n",
      "_________________________________________________________________\n",
      "block4_conv3 (Conv2D)        (None, 28, 28, 512)       2359808   \n",
      "_________________________________________________________________\n",
      "block4_pool (MaxPooling2D)   (None, 14, 14, 512)       0         \n",
      "_________________________________________________________________\n",
      "block5_conv1 (Conv2D)        (None, 14, 14, 512)       2359808   \n",
      "_________________________________________________________________\n",
      "block5_conv2 (Conv2D)        (None, 14, 14, 512)       2359808   \n",
      "_________________________________________________________________\n",
      "block5_conv3 (Conv2D)        (None, 14, 14, 512)       2359808   \n",
      "_________________________________________________________________\n",
      "block5_pool (MaxPooling2D)   (None, 7, 7, 512)         0         \n",
      "_________________________________________________________________\n",
      "flatten (Flatten)            (None, 25088)             0         \n",
      "_________________________________________________________________\n",
      "fc1 (Dense)                  (None, 4096)              102764544 \n",
      "_________________________________________________________________\n",
      "fc2 (Dense)                  (None, 4096)              16781312  \n",
      "_________________________________________________________________\n",
      "predictions (Dense)          (None, 1000)              4097000   \n",
      "=================================================================\n",
      "Total params: 138,357,544\n",
      "Trainable params: 138,357,544\n",
      "Non-trainable params: 0\n",
      "_________________________________________________________________\n"
     ]
    }
   ],
   "source": [
    "#shows model summary\n",
    "base_model.summary()"
   ]
  },
  {
   "cell_type": "code",
   "execution_count": 13,
   "metadata": {
    "colab": {
     "base_uri": "https://localhost:8080/",
     "height": 955
    },
    "colab_type": "code",
    "executionInfo": {
     "elapsed": 1621,
     "status": "ok",
     "timestamp": 1585494947107,
     "user": {
      "displayName": "Kunal Jain",
      "photoUrl": "https://lh3.googleusercontent.com/a-/AOh14Gj8PPO8bvAxwEC7kllsn4dfq49qdmCjlc0PNTHy8rxPksaIBmTM63-nUihJ8QIc-vDCxStC55F9NSZJZuTEuA1k3-kkjKoL1j4oh_SexB3-qVGcBj0MkYMVd0zy4KZ4m3TPfpemauWtmHoK0vJQr-GLX6prSp4bRuzxyOjIJNMQBharHllzSAkm74YRCo-ZnOqpgP_Fnwm4umGbGx_rZZ7NRIB5FmpsxSB0fKhqyyDEpE8TPKjRr0Ligxljwsq1y45AfFcdj3ZMjurxxpYb-ongOWl7qAYtSFg-9-tSjk4tjWEEuBOICgF2trqEJly-bIr4Y3BKtEf7dg_B_Q4Mcc-1VbI5Yhlql39chOYMMwse5pEX87cHxRBQzWo5x_s1NLyHFH4CakaiazPuphnk-gGQwVN-sJj3lIw9PBGfWaA295PgzKodu44nP5TIfW0e5TOZbky_1WPPLIenrkUImA66NIPtlN9hBTomwTcuvvcCltFvu6y-lDcB_gFytHuxx0MbCzF373_Hq4BlVW4OS-SQPYuZpzi10TkRdjISooCZ3qiSW7se3o1oTHd9kUqb6ojwqiv29FHq1HqVdjGHXDltrJ95g667iGoNXpzSoYDfbdP5ZS68yAZYRImsNfwn3OAzKSxSzLeCH8N3Q9fg3XOZC2Gy7dXYMNQ_DLqHdAYpHcqEoEDs3LSACxEYU8a4O81ZycrdFcpZmJi4FjGYgbZTUK0Sim9XYqMmhfnss8BwqLLwdAKoPDQqCk1c2ZePurybcQ=s64",
      "userId": "08522938991278351783"
     },
     "user_tz": -330
    },
    "id": "QC0-nMWFlvG2",
    "outputId": "0544ad1d-9270-4490-a208-179abaa351a3"
   },
   "outputs": [
    {
     "name": "stdout",
     "output_type": "stream",
     "text": [
      "Model: \"model_1\"\n",
      "_________________________________________________________________\n",
      "Layer (type)                 Output Shape              Param #   \n",
      "=================================================================\n",
      "input_1 (InputLayer)         (None, 224, 224, 3)       0         \n",
      "_________________________________________________________________\n",
      "block1_conv1 (Conv2D)        (None, 224, 224, 64)      1792      \n",
      "_________________________________________________________________\n",
      "block1_conv2 (Conv2D)        (None, 224, 224, 64)      36928     \n",
      "_________________________________________________________________\n",
      "block1_pool (MaxPooling2D)   (None, 112, 112, 64)      0         \n",
      "_________________________________________________________________\n",
      "block2_conv1 (Conv2D)        (None, 112, 112, 128)     73856     \n",
      "_________________________________________________________________\n",
      "block2_conv2 (Conv2D)        (None, 112, 112, 128)     147584    \n",
      "_________________________________________________________________\n",
      "block2_pool (MaxPooling2D)   (None, 56, 56, 128)       0         \n",
      "_________________________________________________________________\n",
      "block3_conv1 (Conv2D)        (None, 56, 56, 256)       295168    \n",
      "_________________________________________________________________\n",
      "block3_conv2 (Conv2D)        (None, 56, 56, 256)       590080    \n",
      "_________________________________________________________________\n",
      "block3_conv3 (Conv2D)        (None, 56, 56, 256)       590080    \n",
      "_________________________________________________________________\n",
      "block3_pool (MaxPooling2D)   (None, 28, 28, 256)       0         \n",
      "_________________________________________________________________\n",
      "block4_conv1 (Conv2D)        (None, 28, 28, 512)       1180160   \n",
      "_________________________________________________________________\n",
      "block4_conv2 (Conv2D)        (None, 28, 28, 512)       2359808   \n",
      "_________________________________________________________________\n",
      "block4_conv3 (Conv2D)        (None, 28, 28, 512)       2359808   \n",
      "_________________________________________________________________\n",
      "block4_pool (MaxPooling2D)   (None, 14, 14, 512)       0         \n",
      "_________________________________________________________________\n",
      "block5_conv1 (Conv2D)        (None, 14, 14, 512)       2359808   \n",
      "_________________________________________________________________\n",
      "block5_conv2 (Conv2D)        (None, 14, 14, 512)       2359808   \n",
      "_________________________________________________________________\n",
      "block5_conv3 (Conv2D)        (None, 14, 14, 512)       2359808   \n",
      "_________________________________________________________________\n",
      "block5_pool (MaxPooling2D)   (None, 7, 7, 512)         0         \n",
      "_________________________________________________________________\n",
      "flatten (Flatten)            (None, 25088)             0         \n",
      "_________________________________________________________________\n",
      "fc1 (Dense)                  (None, 100)               2508900   \n",
      "_________________________________________________________________\n",
      "prediction (Dense)           (None, 2)                 202       \n",
      "=================================================================\n",
      "Total params: 17,223,790\n",
      "Trainable params: 17,223,790\n",
      "Non-trainable params: 0\n",
      "_________________________________________________________________\n"
     ]
    },
    {
     "name": "stderr",
     "output_type": "stream",
     "text": [
      "/usr/local/lib/python3.6/dist-packages/ipykernel_launcher.py:3: UserWarning: Update your `Model` call to the Keras 2 API: `Model(inputs=Tensor(\"in..., outputs=Tensor(\"pr...)`\n",
      "  This is separate from the ipykernel package so we can avoid doing imports until\n"
     ]
    }
   ],
   "source": [
    "# creating our own model \n",
    "x = Dense(100, activation='relu', name='fc1')(base_model.layers[-4].output)\n",
    "y = Dense(2, activation='softmax', name='prediction')(x)\n",
    "my_model = Model(input=base_model.input, output=y)\n",
    "my_model.summary()"
   ]
  },
  {
   "cell_type": "code",
   "execution_count": 14,
   "metadata": {
    "colab": {
     "base_uri": "https://localhost:8080/",
     "height": 105
    },
    "colab_type": "code",
    "executionInfo": {
     "elapsed": 1839,
     "status": "ok",
     "timestamp": 1585494976632,
     "user": {
      "displayName": "Kunal Jain",
      "photoUrl": "https://lh3.googleusercontent.com/a-/AOh14Gj8PPO8bvAxwEC7kllsn4dfq49qdmCjlc0PNTHy8rxPksaIBmTM63-nUihJ8QIc-vDCxStC55F9NSZJZuTEuA1k3-kkjKoL1j4oh_SexB3-qVGcBj0MkYMVd0zy4KZ4m3TPfpemauWtmHoK0vJQr-GLX6prSp4bRuzxyOjIJNMQBharHllzSAkm74YRCo-ZnOqpgP_Fnwm4umGbGx_rZZ7NRIB5FmpsxSB0fKhqyyDEpE8TPKjRr0Ligxljwsq1y45AfFcdj3ZMjurxxpYb-ongOWl7qAYtSFg-9-tSjk4tjWEEuBOICgF2trqEJly-bIr4Y3BKtEf7dg_B_Q4Mcc-1VbI5Yhlql39chOYMMwse5pEX87cHxRBQzWo5x_s1NLyHFH4CakaiazPuphnk-gGQwVN-sJj3lIw9PBGfWaA295PgzKodu44nP5TIfW0e5TOZbky_1WPPLIenrkUImA66NIPtlN9hBTomwTcuvvcCltFvu6y-lDcB_gFytHuxx0MbCzF373_Hq4BlVW4OS-SQPYuZpzi10TkRdjISooCZ3qiSW7se3o1oTHd9kUqb6ojwqiv29FHq1HqVdjGHXDltrJ95g667iGoNXpzSoYDfbdP5ZS68yAZYRImsNfwn3OAzKSxSzLeCH8N3Q9fg3XOZC2Gy7dXYMNQ_DLqHdAYpHcqEoEDs3LSACxEYU8a4O81ZycrdFcpZmJi4FjGYgbZTUK0Sim9XYqMmhfnss8BwqLLwdAKoPDQqCk1c2ZePurybcQ=s64",
      "userId": "08522938991278351783"
     },
     "user_tz": -330
    },
    "id": "FjLMQ96R7Lb1",
    "outputId": "91353d65-deab-43fd-940a-1ae31e084fe1"
   },
   "outputs": [
    {
     "name": "stdout",
     "output_type": "stream",
     "text": [
      "WARNING:tensorflow:From /usr/local/lib/python3.6/dist-packages/keras/optimizers.py:793: The name tf.train.Optimizer is deprecated. Please use tf.compat.v1.train.Optimizer instead.\n",
      "\n",
      "WARNING:tensorflow:From /usr/local/lib/python3.6/dist-packages/keras/backend/tensorflow_backend.py:3576: The name tf.log is deprecated. Please use tf.math.log instead.\n",
      "\n"
     ]
    }
   ],
   "source": [
    "# compile the model\n",
    "my_model.compile(optimizer='sgd', metrics=['accuracy'], loss='categorical_crossentropy')"
   ]
  },
  {
   "cell_type": "markdown",
   "metadata": {
    "colab_type": "text",
    "id": "OVfit0i9klBv"
   },
   "source": [
    "## 5. Train the model"
   ]
  },
  {
   "cell_type": "code",
   "execution_count": 15,
   "metadata": {
    "colab": {
     "base_uri": "https://localhost:8080/",
     "height": 530
    },
    "colab_type": "code",
    "executionInfo": {
     "elapsed": 144386,
     "status": "ok",
     "timestamp": 1585495154230,
     "user": {
      "displayName": "Kunal Jain",
      "photoUrl": "https://lh3.googleusercontent.com/a-/AOh14Gj8PPO8bvAxwEC7kllsn4dfq49qdmCjlc0PNTHy8rxPksaIBmTM63-nUihJ8QIc-vDCxStC55F9NSZJZuTEuA1k3-kkjKoL1j4oh_SexB3-qVGcBj0MkYMVd0zy4KZ4m3TPfpemauWtmHoK0vJQr-GLX6prSp4bRuzxyOjIJNMQBharHllzSAkm74YRCo-ZnOqpgP_Fnwm4umGbGx_rZZ7NRIB5FmpsxSB0fKhqyyDEpE8TPKjRr0Ligxljwsq1y45AfFcdj3ZMjurxxpYb-ongOWl7qAYtSFg-9-tSjk4tjWEEuBOICgF2trqEJly-bIr4Y3BKtEf7dg_B_Q4Mcc-1VbI5Yhlql39chOYMMwse5pEX87cHxRBQzWo5x_s1NLyHFH4CakaiazPuphnk-gGQwVN-sJj3lIw9PBGfWaA295PgzKodu44nP5TIfW0e5TOZbky_1WPPLIenrkUImA66NIPtlN9hBTomwTcuvvcCltFvu6y-lDcB_gFytHuxx0MbCzF373_Hq4BlVW4OS-SQPYuZpzi10TkRdjISooCZ3qiSW7se3o1oTHd9kUqb6ojwqiv29FHq1HqVdjGHXDltrJ95g667iGoNXpzSoYDfbdP5ZS68yAZYRImsNfwn3OAzKSxSzLeCH8N3Q9fg3XOZC2Gy7dXYMNQ_DLqHdAYpHcqEoEDs3LSACxEYU8a4O81ZycrdFcpZmJi4FjGYgbZTUK0Sim9XYqMmhfnss8BwqLLwdAKoPDQqCk1c2ZePurybcQ=s64",
      "userId": "08522938991278351783"
     },
     "user_tz": -330
    },
    "id": "THtHpHrE7Lb-",
    "outputId": "b6f937ae-90e2-4220-97ba-f96ac5138ffc",
    "scrolled": true
   },
   "outputs": [
    {
     "name": "stdout",
     "output_type": "stream",
     "text": [
      "WARNING:tensorflow:From /tensorflow-1.15.2/python3.6/tensorflow_core/python/ops/math_grad.py:1424: where (from tensorflow.python.ops.array_ops) is deprecated and will be removed in a future version.\n",
      "Instructions for updating:\n",
      "Use tf.where in 2.0, which has the same broadcast rule as np.where\n",
      "WARNING:tensorflow:From /usr/local/lib/python3.6/dist-packages/keras/backend/tensorflow_backend.py:1033: The name tf.assign_add is deprecated. Please use tf.compat.v1.assign_add instead.\n",
      "\n",
      "WARNING:tensorflow:From /usr/local/lib/python3.6/dist-packages/keras/backend/tensorflow_backend.py:1020: The name tf.assign is deprecated. Please use tf.compat.v1.assign instead.\n",
      "\n",
      "Train on 1646 samples, validate on 706 samples\n",
      "Epoch 1/10\n",
      "1646/1646 [==============================] - 23s 14ms/step - loss: 0.7963 - acc: 0.6209 - val_loss: 0.6076 - val_acc: 0.5864\n",
      "Epoch 2/10\n",
      "1646/1646 [==============================] - 13s 8ms/step - loss: 0.4672 - acc: 0.7746 - val_loss: 0.3309 - val_acc: 0.8697\n",
      "Epoch 3/10\n",
      "1646/1646 [==============================] - 13s 8ms/step - loss: 0.2965 - acc: 0.8706 - val_loss: 0.2776 - val_acc: 0.8853\n",
      "Epoch 4/10\n",
      "1646/1646 [==============================] - 13s 8ms/step - loss: 0.1994 - acc: 0.9204 - val_loss: 0.1907 - val_acc: 0.9320\n",
      "Epoch 5/10\n",
      "1646/1646 [==============================] - 13s 8ms/step - loss: 0.1707 - acc: 0.9313 - val_loss: 0.1687 - val_acc: 0.9348\n",
      "Epoch 6/10\n",
      "1646/1646 [==============================] - 13s 8ms/step - loss: 0.0752 - acc: 0.9745 - val_loss: 0.2654 - val_acc: 0.9051\n",
      "Epoch 7/10\n",
      "1646/1646 [==============================] - 13s 8ms/step - loss: 0.1167 - acc: 0.9544 - val_loss: 0.2095 - val_acc: 0.9263\n",
      "Epoch 8/10\n",
      "1646/1646 [==============================] - 13s 8ms/step - loss: 0.0277 - acc: 0.9921 - val_loss: 0.1809 - val_acc: 0.9419\n",
      "Epoch 9/10\n",
      "1646/1646 [==============================] - 13s 8ms/step - loss: 0.0149 - acc: 0.9976 - val_loss: 0.1613 - val_acc: 0.9433\n",
      "Epoch 10/10\n",
      "1646/1646 [==============================] - 13s 8ms/step - loss: 0.0098 - acc: 0.9970 - val_loss: 0.1799 - val_acc: 0.9405\n"
     ]
    },
    {
     "data": {
      "text/plain": [
       "<keras.callbacks.History at 0x7fa9a7bf8d68>"
      ]
     },
     "execution_count": 15,
     "metadata": {
      "tags": []
     },
     "output_type": "execute_result"
    }
   ],
   "source": [
    "# training the model\n",
    "my_model.fit(X_train, y_train, epochs=10, validation_data=(X_valid, y_valid))"
   ]
  },
  {
   "cell_type": "markdown",
   "metadata": {
    "colab_type": "text",
    "id": "cooberaE7LcD"
   },
   "source": [
    "## 6. Get Predictions"
   ]
  },
  {
   "cell_type": "code",
   "execution_count": 0,
   "metadata": {
    "colab": {},
    "colab_type": "code",
    "id": "8PV5cC9-7LcE"
   },
   "outputs": [],
   "source": [
    "# get predictions\n",
    "predictions = my_model.predict(X_valid)\n",
    "predicted_class = np.argmax(predictions,axis=1)"
   ]
  },
  {
   "cell_type": "code",
   "execution_count": 17,
   "metadata": {
    "colab": {
     "base_uri": "https://localhost:8080/",
     "height": 34
    },
    "colab_type": "code",
    "executionInfo": {
     "elapsed": 1814,
     "status": "ok",
     "timestamp": 1585495177143,
     "user": {
      "displayName": "Kunal Jain",
      "photoUrl": "https://lh3.googleusercontent.com/a-/AOh14Gj8PPO8bvAxwEC7kllsn4dfq49qdmCjlc0PNTHy8rxPksaIBmTM63-nUihJ8QIc-vDCxStC55F9NSZJZuTEuA1k3-kkjKoL1j4oh_SexB3-qVGcBj0MkYMVd0zy4KZ4m3TPfpemauWtmHoK0vJQr-GLX6prSp4bRuzxyOjIJNMQBharHllzSAkm74YRCo-ZnOqpgP_Fnwm4umGbGx_rZZ7NRIB5FmpsxSB0fKhqyyDEpE8TPKjRr0Ligxljwsq1y45AfFcdj3ZMjurxxpYb-ongOWl7qAYtSFg-9-tSjk4tjWEEuBOICgF2trqEJly-bIr4Y3BKtEf7dg_B_Q4Mcc-1VbI5Yhlql39chOYMMwse5pEX87cHxRBQzWo5x_s1NLyHFH4CakaiazPuphnk-gGQwVN-sJj3lIw9PBGfWaA295PgzKodu44nP5TIfW0e5TOZbky_1WPPLIenrkUImA66NIPtlN9hBTomwTcuvvcCltFvu6y-lDcB_gFytHuxx0MbCzF373_Hq4BlVW4OS-SQPYuZpzi10TkRdjISooCZ3qiSW7se3o1oTHd9kUqb6ojwqiv29FHq1HqVdjGHXDltrJ95g667iGoNXpzSoYDfbdP5ZS68yAZYRImsNfwn3OAzKSxSzLeCH8N3Q9fg3XOZC2Gy7dXYMNQ_DLqHdAYpHcqEoEDs3LSACxEYU8a4O81ZycrdFcpZmJi4FjGYgbZTUK0Sim9XYqMmhfnss8BwqLLwdAKoPDQqCk1c2ZePurybcQ=s64",
      "userId": "08522938991278351783"
     },
     "user_tz": -330
    },
    "id": "F-V9tGe2q5IN",
    "outputId": "d4177d1c-5303-4f96-96e1-b253c823080a"
   },
   "outputs": [
    {
     "data": {
      "text/plain": [
       "0.9405099150141643"
      ]
     },
     "execution_count": 17,
     "metadata": {
      "tags": []
     },
     "output_type": "execute_result"
    }
   ],
   "source": [
    "# checking the performance of model on validation set\n",
    "accuracy_score(y_valid[:,1], predicted_class)"
   ]
  },
  {
   "cell_type": "markdown",
   "metadata": {
    "colab_type": "text",
    "id": "x0jagqcwKpI4"
   },
   "source": [
    "## Steps to use the architecture of pre-trained model\n",
    "\n",
    "1. Import necessary libraries\n",
    "2. Load the data\n",
    "3. Pre-Process the data\n",
    "4. Load the architecture of pretrained model\n",
    "5. Train the model\n",
    "6. Get predictions"
   ]
  },
  {
   "cell_type": "code",
   "execution_count": 0,
   "metadata": {
    "colab": {},
    "colab_type": "code",
    "id": "_OKHCQtAGP_4"
   },
   "outputs": [],
   "source": []
  }
 ],
 "metadata": {
  "accelerator": "GPU",
  "colab": {
   "collapsed_sections": [],
   "machine_shape": "hm",
   "name": "1. Transfer Learning using architecture of pre-trained model.ipynb",
   "provenance": []
  },
  "kernelspec": {
   "display_name": "Python 3 (ipykernel)",
   "language": "python",
   "name": "python3"
  },
  "language_info": {
   "codemirror_mode": {
    "name": "ipython",
    "version": 3
   },
   "file_extension": ".py",
   "mimetype": "text/x-python",
   "name": "python",
   "nbconvert_exporter": "python",
   "pygments_lexer": "ipython3",
   "version": "3.11.5"
  }
 },
 "nbformat": 4,
 "nbformat_minor": 1
}
